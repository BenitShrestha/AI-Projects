{
 "cells": [
  {
   "cell_type": "code",
   "execution_count": 41,
   "metadata": {},
   "outputs": [],
   "source": [
    "# Import necessary libraries\n",
    "import pandas as pd\n",
    "import numpy as np \n",
    "import matplotlib.pyplot as plt\n",
    "import seaborn as sns\n",
    "from sklearn.linear_model import LinearRegression, LogisticRegression\n",
    "from sklearn.metrics import confusion_matrix, mean_squared_error, r2_score, root_mean_squared_error, accuracy_score, precision_score, recall_score, f1_score, classification_report\n",
    "from sklearn.ensemble import RandomForestClassifier, RandomForestRegressor\n",
    "from sklearn.neighbors import KNeighborsRegressor\n",
    "from sklearn.tree import plot_tree\n",
    "from scipy import stats"
   ]
  },
  {
   "cell_type": "code",
   "execution_count": 42,
   "metadata": {},
   "outputs": [],
   "source": [
    "# Load train and validation datasets\n",
    "df_train = pd.read_csv(\"data_files/train.csv\")\n",
    "df_validation = pd.read_csv(\"data_files/validation.csv\")"
   ]
  },
  {
   "cell_type": "code",
   "execution_count": 43,
   "metadata": {},
   "outputs": [],
   "source": [
    "def knn_reg(X_train, y_train, X_validation, y_validation):\n",
    "    # Defining the model\n",
    "    model = KNeighborsRegressor(n_neighbors=12, weights='distance', algorithm='auto', p=1, metric='minkowski')\n",
    "\n",
    "    # Fitting the model\n",
    "    model.fit(X_train, y_train)\n",
    "\n",
    "    # Predicting\n",
    "    y_pred = model.predict(X_validation)\n",
    "\n",
    "    print(f\"Using KNN Regressor Model: \")\n",
    "\n",
    "    # Evaluation - MSE, RMSE\n",
    "    print(f\"MSE: {mean_squared_error(y_validation, y_pred)}\")\n",
    "    print(f\"RMSE: {root_mean_squared_error(y_validation, y_pred)}\")\n",
    " \n",
    "    # R2 Score\n",
    "    print(f\"R2 Score: {r2_score(y_validation, y_pred)}\")"
   ]
  },
  {
   "cell_type": "code",
   "execution_count": 44,
   "metadata": {},
   "outputs": [],
   "source": [
    "# Not wrangling or EDA\n",
    "# print(\"Without any data wrangling or EDA:\")\n",
    "# knn_reg(X_train, y_train, X_validation, y_validation)"
   ]
  },
  {
   "cell_type": "code",
   "execution_count": 45,
   "metadata": {},
   "outputs": [],
   "source": [
    "# Function to replace outliers with median\n",
    "def replace_with_median(df, name):\n",
    "    Q1 = df[name].quantile(0.25)\n",
    "    Q3 = df[name].quantile(0.75)\n",
    "    IQR = Q3 - Q1\n",
    "    lower_limit = Q1 - 1.5 * IQR\n",
    "    upper_limit = Q3 + 1.5 * IQR\n",
    "    name_median = df[name].median()\n",
    "\n",
    "    df[name] = np.where((df[name] < lower_limit) | (df[name] > upper_limit), name_median, df[name])\n",
    "    return df"
   ]
  },
  {
   "cell_type": "code",
   "execution_count": 46,
   "metadata": {},
   "outputs": [],
   "source": [
    "# High no. of outliers\n",
    "df_train_to_check = ['fixed acidity', 'volatile acidity', 'residual sugar', 'chlorides', 'free sulfur dioxide', 'total sulfur dioxide', 'density', 'pH', 'sulphates']\n",
    "df_validation_to_check = ['residual sugar', 'chlorides', 'density', 'sulphates']"
   ]
  },
  {
   "cell_type": "code",
   "execution_count": 47,
   "metadata": {},
   "outputs": [],
   "source": [
    "def skew_calc(df):\n",
    "    skew_vals_rev = {df[name].skew():name for name in df}\n",
    "    skew_vals_rev_sorted = dict(sorted(skew_vals_rev.items()))\n",
    "    skew_vals = {value:key for key, value in skew_vals_rev_sorted.items()}\n",
    "    print(f\"Skewness of all features in given dataframe: \")\n",
    "    for key, value in skew_vals.items():\n",
    "        print(f\"{key} = {value}\")"
   ]
  },
  {
   "cell_type": "code",
   "execution_count": 48,
   "metadata": {},
   "outputs": [],
   "source": [
    "def calculate_z_scores(df, column):\n",
    "    mean_col = df[column].mean()\n",
    "    std_dev = df[column].std()\n",
    "    z_scores = ((df[column] - mean_col) / std_dev).abs()\n",
    "    return z_scores"
   ]
  },
  {
   "cell_type": "code",
   "execution_count": 49,
   "metadata": {},
   "outputs": [
    {
     "name": "stdout",
     "output_type": "stream",
     "text": [
      "Skewness of all features in given dataframe: \n",
      "density = -0.0721368587006527\n",
      "quality = 0.0656214905859264\n",
      "pH = 0.15605144433933577\n",
      "citric acid = 0.29487725679585225\n",
      "volatile acidity = 0.7215297851296966\n",
      "alcohol = 0.9518607069483428\n",
      "fixed acidity = 1.0062538933982945\n",
      "free sulfur dioxide = 1.3886754658770064\n",
      "total sulfur dioxide = 1.4384967043965162\n",
      "sulphates = 2.35648257662985\n",
      "residual sugar = 4.117849533942754\n",
      "chlorides = 5.14337824959792\n"
     ]
    }
   ],
   "source": [
    "skew_calc(df_train)"
   ]
  },
  {
   "cell_type": "code",
   "execution_count": 50,
   "metadata": {},
   "outputs": [
    {
     "name": "stdout",
     "output_type": "stream",
     "text": [
      "Skewness of all features in given dataframe: \n",
      "density = 0.08037243743089047\n",
      "pH = 0.21089196121493933\n",
      "citric acid = 0.43551943208901694\n",
      "volatile acidity = 0.4515967325978047\n",
      "quality = 0.4596632384305239\n",
      "alcohol = 0.7804606875056638\n",
      "free sulfur dioxide = 0.9038166574998514\n",
      "fixed acidity = 0.930965965089329\n",
      "total sulfur dioxide = 1.2129466935375377\n",
      "sulphates = 3.153049050487913\n",
      "residual sugar = 4.121244495152995\n",
      "chlorides = 8.109402367221042\n"
     ]
    }
   ],
   "source": [
    "skew_calc(df_validation)"
   ]
  },
  {
   "cell_type": "code",
   "execution_count": 51,
   "metadata": {},
   "outputs": [],
   "source": [
    "to_log_train = ['fixed acidity', 'free sulfur dioxide', 'total sulfur dioxide', 'sulphates', 'residual sugar', 'chlorides']\n",
    "to_log_valid = ['total sulfur dioxide', 'sulphates', 'residual sugar', 'chlorides']"
   ]
  },
  {
   "cell_type": "code",
   "execution_count": 52,
   "metadata": {},
   "outputs": [],
   "source": [
    "for name in to_log_train:\n",
    "    df_train[name] = np.log1p(df_train[name])\n",
    "for name in to_log_valid:\n",
    "    df_validation[name] = np.log1p(df_validation[name])"
   ]
  },
  {
   "cell_type": "code",
   "execution_count": 53,
   "metadata": {},
   "outputs": [
    {
     "name": "stdout",
     "output_type": "stream",
     "text": [
      "Skewness of all features in given dataframe: \n",
      "free sulfur dioxide = -0.08503794279569414\n",
      "density = -0.0721368587006527\n",
      "total sulfur dioxide = -0.06364767066361943\n",
      "quality = 0.0656214905859264\n",
      "pH = 0.15605144433933577\n",
      "citric acid = 0.29487725679585225\n",
      "fixed acidity = 0.4647473972322844\n",
      "volatile acidity = 0.7215297851296966\n",
      "alcohol = 0.9518607069483428\n",
      "sulphates = 1.572284601796296\n",
      "residual sugar = 2.0984027379861296\n",
      "chlorides = 4.674366660308375\n"
     ]
    }
   ],
   "source": [
    "skew_calc(df_train)"
   ]
  },
  {
   "cell_type": "code",
   "execution_count": 54,
   "metadata": {},
   "outputs": [
    {
     "name": "stdout",
     "output_type": "stream",
     "text": [
      "Skewness of all features in given dataframe: \n",
      "total sulfur dioxide = 0.02539383443247844\n",
      "density = 0.08037243743089047\n",
      "pH = 0.21089196121493933\n",
      "citric acid = 0.43551943208901694\n",
      "volatile acidity = 0.4515967325978047\n",
      "quality = 0.4596632384305239\n",
      "alcohol = 0.7804606875056638\n",
      "free sulfur dioxide = 0.9038166574998514\n",
      "fixed acidity = 0.930965965089329\n",
      "sulphates = 2.055768975593893\n",
      "residual sugar = 2.0782371427498028\n",
      "chlorides = 7.066773403190184\n"
     ]
    }
   ],
   "source": [
    "skew_calc(df_validation)"
   ]
  },
  {
   "cell_type": "code",
   "execution_count": 55,
   "metadata": {},
   "outputs": [
    {
     "data": {
      "text/plain": [
       "' for name in to_boxcox_train:\\n    X_train[name] = stats.boxcox(X_train[name])[0]\\nfor name in to_boxcox_valid:\\n    X_validation[name] = stats.boxcox(X_validation[name])[0] '"
      ]
     },
     "execution_count": 55,
     "metadata": {},
     "output_type": "execute_result"
    }
   ],
   "source": [
    "# Use box cox \n",
    "to_boxcox_train = ['sulphates', 'residual sugar', 'chlorides']\n",
    "to_boxcox_valid = ['sulphates', 'residual sugar', 'chlorides']\n",
    "''' for name in to_boxcox_train:\n",
    "    X_train[name] = stats.boxcox(X_train[name])[0]\n",
    "for name in to_boxcox_valid:\n",
    "    X_validation[name] = stats.boxcox(X_validation[name])[0] '''"
   ]
  },
  {
   "cell_type": "code",
   "execution_count": 56,
   "metadata": {},
   "outputs": [
    {
     "name": "stdout",
     "output_type": "stream",
     "text": [
      "Skewness of all features in given dataframe: \n",
      "free sulfur dioxide = -0.15973714777546028\n",
      "total sulfur dioxide = -0.10501003295812325\n",
      "density = -0.0134444930001619\n",
      "quality = 0.09715628032586926\n",
      "chlorides = 0.24017030635684658\n",
      "pH = 0.25159999766302715\n",
      "citric acid = 0.3448131344419056\n",
      "sulphates = 0.44080597396456334\n",
      "fixed acidity = 0.4579953319597294\n",
      "volatile acidity = 0.7715254514158074\n",
      "residual sugar = 0.8859488931793944\n",
      "alcohol = 0.904246782392275\n"
     ]
    }
   ],
   "source": [
    "threshold = 2\n",
    "filtered_train = df_train.copy()\n",
    "for column in to_boxcox_train:\n",
    "    z_scores = calculate_z_scores(filtered_train, column)\n",
    "    filtered_train = filtered_train[z_scores < threshold]\n",
    "    \n",
    "df_train = filtered_train\n",
    "skew_calc(df_train)"
   ]
  },
  {
   "cell_type": "code",
   "execution_count": 57,
   "metadata": {},
   "outputs": [
    {
     "name": "stdout",
     "output_type": "stream",
     "text": [
      "Skewness of all features in given dataframe: \n",
      "density = 0.029668236847751925\n",
      "total sulfur dioxide = 0.031609031026596845\n",
      "chlorides = 0.30719482360316397\n",
      "residual sugar = 0.3496173007248085\n",
      "pH = 0.384507225535403\n",
      "citric acid = 0.38991841799625626\n",
      "volatile acidity = 0.41699044393676876\n",
      "quality = 0.5065230710999892\n",
      "sulphates = 0.5403217973817979\n",
      "alcohol = 0.8703309057690954\n",
      "free sulfur dioxide = 0.937955290510649\n",
      "fixed acidity = 0.9422408734808283\n"
     ]
    }
   ],
   "source": [
    "threshold = 2\n",
    "for column in to_boxcox_train:\n",
    "    z_scores = calculate_z_scores(df_validation, column)\n",
    "    df_validation = df_validation[z_scores < threshold]\n",
    "\n",
    "skew_calc(df_validation)"
   ]
  },
  {
   "cell_type": "code",
   "execution_count": 58,
   "metadata": {},
   "outputs": [
    {
     "name": "stdout",
     "output_type": "stream",
     "text": [
      "Skewness of all features in given dataframe: \n",
      "free sulfur dioxide = -0.15973714777546028\n",
      "total sulfur dioxide = -0.10501003295812325\n",
      "density = -0.0134444930001619\n",
      "quality = 0.09715628032586926\n",
      "chlorides = 0.24017030635684658\n",
      "pH = 0.25159999766302715\n",
      "citric acid = 0.3448131344419056\n",
      "sulphates = 0.44080597396456334\n",
      "fixed acidity = 0.4579953319597294\n",
      "volatile acidity = 0.7715254514158074\n",
      "residual sugar = 0.8859488931793944\n",
      "alcohol = 0.904246782392275\n"
     ]
    }
   ],
   "source": [
    "skew_calc(df_train)"
   ]
  },
  {
   "cell_type": "code",
   "execution_count": 59,
   "metadata": {},
   "outputs": [
    {
     "name": "stdout",
     "output_type": "stream",
     "text": [
      "Skewness of all features in given dataframe: \n",
      "density = 0.029668236847751925\n",
      "total sulfur dioxide = 0.031609031026596845\n",
      "chlorides = 0.30719482360316397\n",
      "residual sugar = 0.3496173007248085\n",
      "pH = 0.384507225535403\n",
      "citric acid = 0.38991841799625626\n",
      "volatile acidity = 0.41699044393676876\n",
      "quality = 0.5065230710999892\n",
      "sulphates = 0.5403217973817979\n",
      "alcohol = 0.8703309057690954\n",
      "free sulfur dioxide = 0.937955290510649\n",
      "fixed acidity = 0.9422408734808283\n"
     ]
    }
   ],
   "source": [
    "skew_calc(df_validation)"
   ]
  },
  {
   "cell_type": "code",
   "execution_count": 60,
   "metadata": {},
   "outputs": [],
   "source": [
    "# Replace outliers with median\n",
    "for name in df_train_to_check:\n",
    "    df_train = replace_with_median(df_train, name)\n",
    "\n",
    "for name in df_validation_to_check:\n",
    "    df_validation_ = replace_with_median(df_validation, name)"
   ]
  },
  {
   "cell_type": "code",
   "execution_count": 61,
   "metadata": {},
   "outputs": [
    {
     "name": "stdout",
     "output_type": "stream",
     "text": [
      "Skewness of all features in given dataframe: \n",
      "total sulfur dioxide = -0.10501003295812325\n",
      "free sulfur dioxide = -0.09981536238868703\n",
      "chlorides = 0.007386370134731044\n",
      "density = 0.025886775731184843\n",
      "pH = 0.07958402403740351\n",
      "quality = 0.09715628032586926\n",
      "residual sugar = 0.1705413015737153\n",
      "volatile acidity = 0.2571422861521256\n",
      "citric acid = 0.3448131344419056\n",
      "fixed acidity = 0.3973990709744102\n",
      "sulphates = 0.41541212925968224\n",
      "alcohol = 0.904246782392275\n"
     ]
    }
   ],
   "source": [
    "skew_calc(df_train)"
   ]
  },
  {
   "cell_type": "code",
   "execution_count": 62,
   "metadata": {},
   "outputs": [
    {
     "name": "stdout",
     "output_type": "stream",
     "text": [
      "Skewness of all features in given dataframe: \n",
      "residual sugar = -0.05027517631439294\n",
      "total sulfur dioxide = 0.031609031026596845\n",
      "density = 0.05412610674559419\n",
      "chlorides = 0.07833985493316707\n",
      "pH = 0.384507225535403\n",
      "citric acid = 0.38991841799625626\n",
      "volatile acidity = 0.41699044393676876\n",
      "quality = 0.5065230710999892\n",
      "sulphates = 0.5202279085105761\n",
      "alcohol = 0.8703309057690954\n",
      "free sulfur dioxide = 0.937955290510649\n",
      "fixed acidity = 0.9422408734808283\n"
     ]
    }
   ],
   "source": [
    "skew_calc(df_validation)"
   ]
  },
  {
   "cell_type": "code",
   "execution_count": 63,
   "metadata": {},
   "outputs": [],
   "source": [
    "# Dividing training data into input features and target features\n",
    "X_train = df_train.drop('quality', axis = 1)\n",
    "y_train = df_train['quality']\n",
    "\n",
    "# Dividing validation data into input features and target features\n",
    "X_validation = df_validation.drop('quality', axis = 1)\n",
    "y_validation = df_validation['quality']"
   ]
  },
  {
   "cell_type": "code",
   "execution_count": 64,
   "metadata": {},
   "outputs": [
    {
     "name": "stdout",
     "output_type": "stream",
     "text": [
      "Using KNN Regressor Model: \n",
      "MSE: 0.45993961959449514\n",
      "RMSE: 0.6781884838262112\n",
      "R2 Score: 0.27617307165462324\n"
     ]
    }
   ],
   "source": [
    "knn_reg(X_train, y_train, X_validation, y_validation)"
   ]
  }
 ],
 "metadata": {
  "kernelspec": {
   "display_name": "machinelearning",
   "language": "python",
   "name": "python3"
  },
  "language_info": {
   "codemirror_mode": {
    "name": "ipython",
    "version": 3
   },
   "file_extension": ".py",
   "mimetype": "text/x-python",
   "name": "python",
   "nbconvert_exporter": "python",
   "pygments_lexer": "ipython3",
   "version": "3.12.1"
  }
 },
 "nbformat": 4,
 "nbformat_minor": 2
}
