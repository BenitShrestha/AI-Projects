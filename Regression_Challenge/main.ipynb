{
 "cells": [
  {
   "cell_type": "code",
   "execution_count": 1032,
   "metadata": {},
   "outputs": [
    {
     "name": "stdout",
     "output_type": "stream",
     "text": [
      "Hello World\n"
     ]
    }
   ],
   "source": [
    "print(\"Hello World\")"
   ]
  },
  {
   "cell_type": "code",
   "execution_count": 1033,
   "metadata": {},
   "outputs": [],
   "source": [
    "# Import necessary libraries\n",
    "import pandas as pd\n",
    "import numpy as np \n",
    "import matplotlib.pyplot as plt\n",
    "import seaborn as sns\n",
    "from sklearn.linear_model import LinearRegression\n",
    "from sklearn.metrics import mean_squared_error, r2_score, root_mean_squared_error"
   ]
  },
  {
   "cell_type": "code",
   "execution_count": 1034,
   "metadata": {},
   "outputs": [],
   "source": [
    "# Load train and validation datasets\n",
    "df_train = pd.read_csv(\"data_files/train.csv\")\n",
    "df_validation = pd.read_csv(\"data_files/validation.csv\")"
   ]
  },
  {
   "cell_type": "code",
   "execution_count": 1035,
   "metadata": {},
   "outputs": [
    {
     "data": {
      "text/html": [
       "<div>\n",
       "<style scoped>\n",
       "    .dataframe tbody tr th:only-of-type {\n",
       "        vertical-align: middle;\n",
       "    }\n",
       "\n",
       "    .dataframe tbody tr th {\n",
       "        vertical-align: top;\n",
       "    }\n",
       "\n",
       "    .dataframe thead th {\n",
       "        text-align: right;\n",
       "    }\n",
       "</style>\n",
       "<table border=\"1\" class=\"dataframe\">\n",
       "  <thead>\n",
       "    <tr style=\"text-align: right;\">\n",
       "      <th></th>\n",
       "      <th>fixed acidity</th>\n",
       "      <th>volatile acidity</th>\n",
       "      <th>citric acid</th>\n",
       "      <th>residual sugar</th>\n",
       "      <th>chlorides</th>\n",
       "      <th>free sulfur dioxide</th>\n",
       "      <th>total sulfur dioxide</th>\n",
       "      <th>density</th>\n",
       "      <th>pH</th>\n",
       "      <th>sulphates</th>\n",
       "      <th>alcohol</th>\n",
       "      <th>quality</th>\n",
       "    </tr>\n",
       "  </thead>\n",
       "  <tbody>\n",
       "    <tr>\n",
       "      <th>0</th>\n",
       "      <td>6.8</td>\n",
       "      <td>0.770</td>\n",
       "      <td>0.00</td>\n",
       "      <td>1.8</td>\n",
       "      <td>0.066</td>\n",
       "      <td>34.0</td>\n",
       "      <td>52.0</td>\n",
       "      <td>0.99760</td>\n",
       "      <td>3.62</td>\n",
       "      <td>0.68</td>\n",
       "      <td>9.9</td>\n",
       "      <td>5</td>\n",
       "    </tr>\n",
       "    <tr>\n",
       "      <th>1</th>\n",
       "      <td>7.3</td>\n",
       "      <td>0.580</td>\n",
       "      <td>0.30</td>\n",
       "      <td>2.4</td>\n",
       "      <td>0.074</td>\n",
       "      <td>15.0</td>\n",
       "      <td>55.0</td>\n",
       "      <td>0.99680</td>\n",
       "      <td>3.46</td>\n",
       "      <td>0.59</td>\n",
       "      <td>10.2</td>\n",
       "      <td>5</td>\n",
       "    </tr>\n",
       "    <tr>\n",
       "      <th>2</th>\n",
       "      <td>9.8</td>\n",
       "      <td>0.250</td>\n",
       "      <td>0.49</td>\n",
       "      <td>2.7</td>\n",
       "      <td>0.088</td>\n",
       "      <td>15.0</td>\n",
       "      <td>33.0</td>\n",
       "      <td>0.99820</td>\n",
       "      <td>3.42</td>\n",
       "      <td>0.90</td>\n",
       "      <td>10.0</td>\n",
       "      <td>6</td>\n",
       "    </tr>\n",
       "    <tr>\n",
       "      <th>3</th>\n",
       "      <td>11.4</td>\n",
       "      <td>0.625</td>\n",
       "      <td>0.66</td>\n",
       "      <td>6.2</td>\n",
       "      <td>0.088</td>\n",
       "      <td>6.0</td>\n",
       "      <td>24.0</td>\n",
       "      <td>0.99880</td>\n",
       "      <td>3.11</td>\n",
       "      <td>0.99</td>\n",
       "      <td>13.3</td>\n",
       "      <td>6</td>\n",
       "    </tr>\n",
       "    <tr>\n",
       "      <th>4</th>\n",
       "      <td>7.1</td>\n",
       "      <td>0.720</td>\n",
       "      <td>0.00</td>\n",
       "      <td>1.8</td>\n",
       "      <td>0.123</td>\n",
       "      <td>6.0</td>\n",
       "      <td>14.0</td>\n",
       "      <td>0.99627</td>\n",
       "      <td>3.45</td>\n",
       "      <td>0.58</td>\n",
       "      <td>9.8</td>\n",
       "      <td>5</td>\n",
       "    </tr>\n",
       "  </tbody>\n",
       "</table>\n",
       "</div>"
      ],
      "text/plain": [
       "   fixed acidity  volatile acidity  citric acid  residual sugar  chlorides  \\\n",
       "0            6.8             0.770         0.00             1.8      0.066   \n",
       "1            7.3             0.580         0.30             2.4      0.074   \n",
       "2            9.8             0.250         0.49             2.7      0.088   \n",
       "3           11.4             0.625         0.66             6.2      0.088   \n",
       "4            7.1             0.720         0.00             1.8      0.123   \n",
       "\n",
       "   free sulfur dioxide  total sulfur dioxide  density    pH  sulphates  \\\n",
       "0                 34.0                  52.0  0.99760  3.62       0.68   \n",
       "1                 15.0                  55.0  0.99680  3.46       0.59   \n",
       "2                 15.0                  33.0  0.99820  3.42       0.90   \n",
       "3                  6.0                  24.0  0.99880  3.11       0.99   \n",
       "4                  6.0                  14.0  0.99627  3.45       0.58   \n",
       "\n",
       "   alcohol  quality  \n",
       "0      9.9        5  \n",
       "1     10.2        5  \n",
       "2     10.0        6  \n",
       "3     13.3        6  \n",
       "4      9.8        5  "
      ]
     },
     "execution_count": 1035,
     "metadata": {},
     "output_type": "execute_result"
    }
   ],
   "source": [
    "df_train.head()"
   ]
  },
  {
   "cell_type": "code",
   "execution_count": 1036,
   "metadata": {},
   "outputs": [
    {
     "data": {
      "text/html": [
       "<div>\n",
       "<style scoped>\n",
       "    .dataframe tbody tr th:only-of-type {\n",
       "        vertical-align: middle;\n",
       "    }\n",
       "\n",
       "    .dataframe tbody tr th {\n",
       "        vertical-align: top;\n",
       "    }\n",
       "\n",
       "    .dataframe thead th {\n",
       "        text-align: right;\n",
       "    }\n",
       "</style>\n",
       "<table border=\"1\" class=\"dataframe\">\n",
       "  <thead>\n",
       "    <tr style=\"text-align: right;\">\n",
       "      <th></th>\n",
       "      <th>fixed acidity</th>\n",
       "      <th>volatile acidity</th>\n",
       "      <th>citric acid</th>\n",
       "      <th>residual sugar</th>\n",
       "      <th>chlorides</th>\n",
       "      <th>free sulfur dioxide</th>\n",
       "      <th>total sulfur dioxide</th>\n",
       "      <th>density</th>\n",
       "      <th>pH</th>\n",
       "      <th>sulphates</th>\n",
       "      <th>alcohol</th>\n",
       "      <th>quality</th>\n",
       "    </tr>\n",
       "  </thead>\n",
       "  <tbody>\n",
       "    <tr>\n",
       "      <th>0</th>\n",
       "      <td>8.4</td>\n",
       "      <td>0.635</td>\n",
       "      <td>0.36</td>\n",
       "      <td>2.0</td>\n",
       "      <td>0.089</td>\n",
       "      <td>15.0</td>\n",
       "      <td>55.0</td>\n",
       "      <td>0.99745</td>\n",
       "      <td>3.31</td>\n",
       "      <td>0.57</td>\n",
       "      <td>10.4</td>\n",
       "      <td>4</td>\n",
       "    </tr>\n",
       "    <tr>\n",
       "      <th>1</th>\n",
       "      <td>8.3</td>\n",
       "      <td>0.490</td>\n",
       "      <td>0.36</td>\n",
       "      <td>1.8</td>\n",
       "      <td>0.222</td>\n",
       "      <td>6.0</td>\n",
       "      <td>16.0</td>\n",
       "      <td>0.99800</td>\n",
       "      <td>3.18</td>\n",
       "      <td>0.60</td>\n",
       "      <td>9.5</td>\n",
       "      <td>6</td>\n",
       "    </tr>\n",
       "    <tr>\n",
       "      <th>2</th>\n",
       "      <td>9.0</td>\n",
       "      <td>0.580</td>\n",
       "      <td>0.25</td>\n",
       "      <td>2.0</td>\n",
       "      <td>0.104</td>\n",
       "      <td>8.0</td>\n",
       "      <td>21.0</td>\n",
       "      <td>0.99769</td>\n",
       "      <td>3.27</td>\n",
       "      <td>0.72</td>\n",
       "      <td>9.6</td>\n",
       "      <td>5</td>\n",
       "    </tr>\n",
       "    <tr>\n",
       "      <th>3</th>\n",
       "      <td>8.1</td>\n",
       "      <td>0.780</td>\n",
       "      <td>0.10</td>\n",
       "      <td>3.3</td>\n",
       "      <td>0.090</td>\n",
       "      <td>4.0</td>\n",
       "      <td>13.0</td>\n",
       "      <td>0.99855</td>\n",
       "      <td>3.36</td>\n",
       "      <td>0.49</td>\n",
       "      <td>9.5</td>\n",
       "      <td>5</td>\n",
       "    </tr>\n",
       "    <tr>\n",
       "      <th>4</th>\n",
       "      <td>7.5</td>\n",
       "      <td>0.380</td>\n",
       "      <td>0.48</td>\n",
       "      <td>2.6</td>\n",
       "      <td>0.073</td>\n",
       "      <td>22.0</td>\n",
       "      <td>84.0</td>\n",
       "      <td>0.99720</td>\n",
       "      <td>3.32</td>\n",
       "      <td>0.70</td>\n",
       "      <td>9.6</td>\n",
       "      <td>4</td>\n",
       "    </tr>\n",
       "  </tbody>\n",
       "</table>\n",
       "</div>"
      ],
      "text/plain": [
       "   fixed acidity  volatile acidity  citric acid  residual sugar  chlorides  \\\n",
       "0            8.4             0.635         0.36             2.0      0.089   \n",
       "1            8.3             0.490         0.36             1.8      0.222   \n",
       "2            9.0             0.580         0.25             2.0      0.104   \n",
       "3            8.1             0.780         0.10             3.3      0.090   \n",
       "4            7.5             0.380         0.48             2.6      0.073   \n",
       "\n",
       "   free sulfur dioxide  total sulfur dioxide  density    pH  sulphates  \\\n",
       "0                 15.0                  55.0  0.99745  3.31       0.57   \n",
       "1                  6.0                  16.0  0.99800  3.18       0.60   \n",
       "2                  8.0                  21.0  0.99769  3.27       0.72   \n",
       "3                  4.0                  13.0  0.99855  3.36       0.49   \n",
       "4                 22.0                  84.0  0.99720  3.32       0.70   \n",
       "\n",
       "   alcohol  quality  \n",
       "0     10.4        4  \n",
       "1      9.5        6  \n",
       "2      9.6        5  \n",
       "3      9.5        5  \n",
       "4      9.6        4  "
      ]
     },
     "execution_count": 1036,
     "metadata": {},
     "output_type": "execute_result"
    }
   ],
   "source": [
    "df_validation.head()"
   ]
  },
  {
   "cell_type": "code",
   "execution_count": 1037,
   "metadata": {},
   "outputs": [],
   "source": [
    "# Dividing training data into input features and target features\n",
    "X_train = df_train.drop('quality', axis = 1)\n",
    "y_train = df_train['quality']"
   ]
  },
  {
   "cell_type": "code",
   "execution_count": 1038,
   "metadata": {},
   "outputs": [],
   "source": [
    "# Dividing validation data into input features and target features\n",
    "X_validation = df_validation.drop('quality', axis = 1)\n",
    "y_validation = df_validation['quality']"
   ]
  },
  {
   "cell_type": "code",
   "execution_count": 1039,
   "metadata": {},
   "outputs": [
    {
     "data": {
      "text/plain": [
       "0.42766180439680423"
      ]
     },
     "execution_count": 1039,
     "metadata": {},
     "output_type": "execute_result"
    }
   ],
   "source": [
    "# Defining the model\n",
    "model = LinearRegression()\n",
    "\n",
    "# Fitting the model\n",
    "model.fit(X_train, y_train)\n",
    "\n",
    "# Predicting\n",
    "y_pred = model.predict(X_validation)\n",
    "\n",
    "# Calculating the error\n",
    "mean_squared_error(y_validation, y_pred)"
   ]
  },
  {
   "cell_type": "code",
   "execution_count": 1040,
   "metadata": {},
   "outputs": [
    {
     "data": {
      "text/plain": [
       "0.6539585647400027"
      ]
     },
     "execution_count": 1040,
     "metadata": {},
     "output_type": "execute_result"
    }
   ],
   "source": [
    "# RMS Error\n",
    "root_mean_squared_error(y_validation, y_pred)"
   ]
  },
  {
   "cell_type": "code",
   "execution_count": 1041,
   "metadata": {},
   "outputs": [
    {
     "data": {
      "text/plain": [
       "0.34485415639050987"
      ]
     },
     "execution_count": 1041,
     "metadata": {},
     "output_type": "execute_result"
    }
   ],
   "source": [
    "# R2 Score\n",
    "r2_score(y_validation, y_pred)"
   ]
  },
  {
   "cell_type": "code",
   "execution_count": 1042,
   "metadata": {},
   "outputs": [],
   "source": [
    "# Function to plot histplot of all features of a dataframe\n",
    "def hist_plot_all(df, data):\n",
    "    print(f\"Visualize Histplot for {data} data\")\n",
    "    for name in df:\n",
    "        print(f\"{name}: \")\n",
    "        sns.histplot(df[name], kde = True)\n",
    "        plt.show()\n",
    "\n"
   ]
  },
  {
   "cell_type": "code",
   "execution_count": 1043,
   "metadata": {},
   "outputs": [],
   "source": [
    "# Function to plot boxplot of all features of a dataframe\n",
    "def box_plot_all(df, data):\n",
    "    print(f\"Visualizing boxplots of {data} data: \")\n",
    "    for name in df:\n",
    "        print(f\"{name}: \")\n",
    "        sns.boxplot(df[name], orient = \"h\")\n",
    "        plt.show()"
   ]
  },
  {
   "cell_type": "code",
   "execution_count": 1044,
   "metadata": {},
   "outputs": [],
   "source": [
    "# hist_plot_all(X_train, \"train\")"
   ]
  },
  {
   "cell_type": "code",
   "execution_count": 1045,
   "metadata": {},
   "outputs": [],
   "source": [
    "# hist_plot_all(X_validation, \"validation\")"
   ]
  },
  {
   "cell_type": "code",
   "execution_count": 1046,
   "metadata": {},
   "outputs": [],
   "source": [
    "# box_plot_all(X_train, \"train\")"
   ]
  },
  {
   "cell_type": "code",
   "execution_count": 1047,
   "metadata": {},
   "outputs": [],
   "source": [
    "# box_plot_all(X_validation, \"validation\")"
   ]
  },
  {
   "cell_type": "code",
   "execution_count": 1048,
   "metadata": {},
   "outputs": [],
   "source": [
    "# Calculate skewness of all features in a dataframe\n",
    "def skew_calc(df):\n",
    "    skew_vals_rev = {df[name].skew():name for name in df}\n",
    "    skew_vals_rev_sorted = dict(sorted(skew_vals_rev.items()))\n",
    "    skew_vals = {value:key for key, value in skew_vals_rev_sorted.items()}\n",
    "    print(f\"Skewness of all features in given dataframe: \")\n",
    "    for key, value in skew_vals.items():\n",
    "        print(f\"{key} = {value}\")"
   ]
  },
  {
   "cell_type": "code",
   "execution_count": 1049,
   "metadata": {},
   "outputs": [
    {
     "name": "stdout",
     "output_type": "stream",
     "text": [
      "Skewness of all features in given dataframe: \n",
      "density = -0.0721368587006527\n",
      "pH = 0.15605144433933577\n",
      "citric acid = 0.29487725679585225\n",
      "volatile acidity = 0.7215297851296966\n",
      "alcohol = 0.9518607069483428\n",
      "fixed acidity = 1.0062538933982945\n",
      "free sulfur dioxide = 1.3886754658770064\n",
      "total sulfur dioxide = 1.4384967043965162\n",
      "sulphates = 2.35648257662985\n",
      "residual sugar = 4.117849533942754\n",
      "chlorides = 5.14337824959792\n"
     ]
    }
   ],
   "source": [
    "# Calculate skewness of features in X_train, print in increasing order\n",
    "skew_calc(X_train)"
   ]
  },
  {
   "cell_type": "code",
   "execution_count": 1050,
   "metadata": {},
   "outputs": [],
   "source": [
    "# Function to generate a list of features which have skewness not in range -1 to 1\n",
    "def skewed_list_fun(df):\n",
    "    skewed_list = [name for name in df if df[name].skew() > 1 or df[name].skew() < -1]\n",
    "    return skewed_list"
   ]
  },
  {
   "cell_type": "code",
   "execution_count": 1051,
   "metadata": {},
   "outputs": [
    {
     "name": "stdout",
     "output_type": "stream",
     "text": [
      "['fixed acidity', 'residual sugar', 'chlorides', 'free sulfur dioxide', 'total sulfur dioxide', 'sulphates']\n"
     ]
    }
   ],
   "source": [
    "skewed_list = skewed_list_fun(X_train)\n",
    "print(skewed_list)"
   ]
  },
  {
   "cell_type": "code",
   "execution_count": 1052,
   "metadata": {},
   "outputs": [
    {
     "name": "stdout",
     "output_type": "stream",
     "text": [
      "Skewness of all features in given dataframe: \n",
      "fixed acidity = 1.0062538933982945\n",
      "free sulfur dioxide = 1.3886754658770064\n",
      "total sulfur dioxide = 1.4384967043965162\n",
      "sulphates = 2.35648257662985\n",
      "residual sugar = 4.117849533942754\n",
      "chlorides = 5.14337824959792\n"
     ]
    }
   ],
   "source": [
    "skew_calc(X_train[skewed_list])"
   ]
  },
  {
   "cell_type": "code",
   "execution_count": 1053,
   "metadata": {},
   "outputs": [],
   "source": [
    "# Initial log transformation to reduce skewness\n",
    "for name in skewed_list:\n",
    "    X_train[f\"{name}_log\"] = np.log1p(X_train[name])\n",
    "    X_validation[f\"{name}_log\"] = np.log1p(X_validation[name])"
   ]
  },
  {
   "cell_type": "code",
   "execution_count": 1054,
   "metadata": {},
   "outputs": [
    {
     "name": "stdout",
     "output_type": "stream",
     "text": [
      "Skewness of all features in given dataframe: \n",
      "fixed acidity = 1.0062538933982945\n",
      "free sulfur dioxide = 1.3886754658770064\n",
      "total sulfur dioxide = 1.4384967043965162\n",
      "sulphates_log = 1.572284601796296\n",
      "residual sugar_log = 2.0984027379861296\n",
      "sulphates = 2.35648257662985\n",
      "residual sugar = 4.117849533942754\n",
      "chlorides_log = 4.674366660308375\n",
      "chlorides = 5.14337824959792\n"
     ]
    }
   ],
   "source": [
    "# Skew calculation after log function, X_train\n",
    "train_skewed_list = skewed_list_fun(X_train)\n",
    "skew_calc(X_train[new_skewed_list])"
   ]
  },
  {
   "cell_type": "code",
   "execution_count": 1055,
   "metadata": {},
   "outputs": [
    {
     "name": "stdout",
     "output_type": "stream",
     "text": [
      "Skewness of all features in given dataframe: \n",
      "free sulfur dioxide = 0.9038166574998514\n",
      "fixed acidity = 0.930965965089329\n",
      "total sulfur dioxide = 1.2129466935375377\n",
      "sulphates_log = 2.055768975593893\n",
      "residual sugar_log = 2.0782371427498028\n",
      "sulphates = 3.153049050487913\n",
      "residual sugar = 4.121244495152995\n",
      "chlorides_log = 7.066773403190184\n",
      "chlorides = 8.109402367221042\n"
     ]
    }
   ],
   "source": [
    "# Skew calculation after log function, X_validation\n",
    "valid_skewed_list = skewed_list_fun(X_validation)\n",
    "skew_calc(X_validation[new_skewed_list])"
   ]
  },
  {
   "cell_type": "code",
   "execution_count": 1056,
   "metadata": {},
   "outputs": [
    {
     "data": {
      "text/html": [
       "<div>\n",
       "<style scoped>\n",
       "    .dataframe tbody tr th:only-of-type {\n",
       "        vertical-align: middle;\n",
       "    }\n",
       "\n",
       "    .dataframe tbody tr th {\n",
       "        vertical-align: top;\n",
       "    }\n",
       "\n",
       "    .dataframe thead th {\n",
       "        text-align: right;\n",
       "    }\n",
       "</style>\n",
       "<table border=\"1\" class=\"dataframe\">\n",
       "  <thead>\n",
       "    <tr style=\"text-align: right;\">\n",
       "      <th></th>\n",
       "      <th>fixed acidity</th>\n",
       "      <th>volatile acidity</th>\n",
       "      <th>citric acid</th>\n",
       "      <th>residual sugar</th>\n",
       "      <th>chlorides</th>\n",
       "      <th>free sulfur dioxide</th>\n",
       "      <th>total sulfur dioxide</th>\n",
       "      <th>density</th>\n",
       "      <th>pH</th>\n",
       "      <th>sulphates</th>\n",
       "      <th>alcohol</th>\n",
       "      <th>fixed acidity_log</th>\n",
       "      <th>residual sugar_log</th>\n",
       "      <th>chlorides_log</th>\n",
       "      <th>free sulfur dioxide_log</th>\n",
       "      <th>total sulfur dioxide_log</th>\n",
       "      <th>sulphates_log</th>\n",
       "    </tr>\n",
       "  </thead>\n",
       "  <tbody>\n",
       "    <tr>\n",
       "      <th>0</th>\n",
       "      <td>6.8</td>\n",
       "      <td>0.770</td>\n",
       "      <td>0.00</td>\n",
       "      <td>1.8</td>\n",
       "      <td>0.066</td>\n",
       "      <td>34.0</td>\n",
       "      <td>52.0</td>\n",
       "      <td>0.99760</td>\n",
       "      <td>3.62</td>\n",
       "      <td>0.68</td>\n",
       "      <td>9.9</td>\n",
       "      <td>2.054124</td>\n",
       "      <td>1.029619</td>\n",
       "      <td>0.063913</td>\n",
       "      <td>3.555348</td>\n",
       "      <td>3.970292</td>\n",
       "      <td>0.518794</td>\n",
       "    </tr>\n",
       "    <tr>\n",
       "      <th>1</th>\n",
       "      <td>7.3</td>\n",
       "      <td>0.580</td>\n",
       "      <td>0.30</td>\n",
       "      <td>2.4</td>\n",
       "      <td>0.074</td>\n",
       "      <td>15.0</td>\n",
       "      <td>55.0</td>\n",
       "      <td>0.99680</td>\n",
       "      <td>3.46</td>\n",
       "      <td>0.59</td>\n",
       "      <td>10.2</td>\n",
       "      <td>2.116256</td>\n",
       "      <td>1.223775</td>\n",
       "      <td>0.071390</td>\n",
       "      <td>2.772589</td>\n",
       "      <td>4.025352</td>\n",
       "      <td>0.463734</td>\n",
       "    </tr>\n",
       "    <tr>\n",
       "      <th>2</th>\n",
       "      <td>9.8</td>\n",
       "      <td>0.250</td>\n",
       "      <td>0.49</td>\n",
       "      <td>2.7</td>\n",
       "      <td>0.088</td>\n",
       "      <td>15.0</td>\n",
       "      <td>33.0</td>\n",
       "      <td>0.99820</td>\n",
       "      <td>3.42</td>\n",
       "      <td>0.90</td>\n",
       "      <td>10.0</td>\n",
       "      <td>2.379546</td>\n",
       "      <td>1.308333</td>\n",
       "      <td>0.084341</td>\n",
       "      <td>2.772589</td>\n",
       "      <td>3.526361</td>\n",
       "      <td>0.641854</td>\n",
       "    </tr>\n",
       "    <tr>\n",
       "      <th>3</th>\n",
       "      <td>11.4</td>\n",
       "      <td>0.625</td>\n",
       "      <td>0.66</td>\n",
       "      <td>6.2</td>\n",
       "      <td>0.088</td>\n",
       "      <td>6.0</td>\n",
       "      <td>24.0</td>\n",
       "      <td>0.99880</td>\n",
       "      <td>3.11</td>\n",
       "      <td>0.99</td>\n",
       "      <td>13.3</td>\n",
       "      <td>2.517696</td>\n",
       "      <td>1.974081</td>\n",
       "      <td>0.084341</td>\n",
       "      <td>1.945910</td>\n",
       "      <td>3.218876</td>\n",
       "      <td>0.688135</td>\n",
       "    </tr>\n",
       "    <tr>\n",
       "      <th>4</th>\n",
       "      <td>7.1</td>\n",
       "      <td>0.720</td>\n",
       "      <td>0.00</td>\n",
       "      <td>1.8</td>\n",
       "      <td>0.123</td>\n",
       "      <td>6.0</td>\n",
       "      <td>14.0</td>\n",
       "      <td>0.99627</td>\n",
       "      <td>3.45</td>\n",
       "      <td>0.58</td>\n",
       "      <td>9.8</td>\n",
       "      <td>2.091864</td>\n",
       "      <td>1.029619</td>\n",
       "      <td>0.116004</td>\n",
       "      <td>1.945910</td>\n",
       "      <td>2.708050</td>\n",
       "      <td>0.457425</td>\n",
       "    </tr>\n",
       "  </tbody>\n",
       "</table>\n",
       "</div>"
      ],
      "text/plain": [
       "   fixed acidity  volatile acidity  citric acid  residual sugar  chlorides  \\\n",
       "0            6.8             0.770         0.00             1.8      0.066   \n",
       "1            7.3             0.580         0.30             2.4      0.074   \n",
       "2            9.8             0.250         0.49             2.7      0.088   \n",
       "3           11.4             0.625         0.66             6.2      0.088   \n",
       "4            7.1             0.720         0.00             1.8      0.123   \n",
       "\n",
       "   free sulfur dioxide  total sulfur dioxide  density    pH  sulphates  \\\n",
       "0                 34.0                  52.0  0.99760  3.62       0.68   \n",
       "1                 15.0                  55.0  0.99680  3.46       0.59   \n",
       "2                 15.0                  33.0  0.99820  3.42       0.90   \n",
       "3                  6.0                  24.0  0.99880  3.11       0.99   \n",
       "4                  6.0                  14.0  0.99627  3.45       0.58   \n",
       "\n",
       "   alcohol  fixed acidity_log  residual sugar_log  chlorides_log  \\\n",
       "0      9.9           2.054124            1.029619       0.063913   \n",
       "1     10.2           2.116256            1.223775       0.071390   \n",
       "2     10.0           2.379546            1.308333       0.084341   \n",
       "3     13.3           2.517696            1.974081       0.084341   \n",
       "4      9.8           2.091864            1.029619       0.116004   \n",
       "\n",
       "   free sulfur dioxide_log  total sulfur dioxide_log  sulphates_log  \n",
       "0                 3.555348                  3.970292       0.518794  \n",
       "1                 2.772589                  4.025352       0.463734  \n",
       "2                 2.772589                  3.526361       0.641854  \n",
       "3                 1.945910                  3.218876       0.688135  \n",
       "4                 1.945910                  2.708050       0.457425  "
      ]
     },
     "execution_count": 1056,
     "metadata": {},
     "output_type": "execute_result"
    }
   ],
   "source": [
    "X_train.head()"
   ]
  },
  {
   "cell_type": "code",
   "execution_count": 1057,
   "metadata": {},
   "outputs": [
    {
     "data": {
      "text/html": [
       "<div>\n",
       "<style scoped>\n",
       "    .dataframe tbody tr th:only-of-type {\n",
       "        vertical-align: middle;\n",
       "    }\n",
       "\n",
       "    .dataframe tbody tr th {\n",
       "        vertical-align: top;\n",
       "    }\n",
       "\n",
       "    .dataframe thead th {\n",
       "        text-align: right;\n",
       "    }\n",
       "</style>\n",
       "<table border=\"1\" class=\"dataframe\">\n",
       "  <thead>\n",
       "    <tr style=\"text-align: right;\">\n",
       "      <th></th>\n",
       "      <th>fixed acidity</th>\n",
       "      <th>volatile acidity</th>\n",
       "      <th>citric acid</th>\n",
       "      <th>residual sugar</th>\n",
       "      <th>chlorides</th>\n",
       "      <th>free sulfur dioxide</th>\n",
       "      <th>total sulfur dioxide</th>\n",
       "      <th>density</th>\n",
       "      <th>pH</th>\n",
       "      <th>sulphates</th>\n",
       "      <th>alcohol</th>\n",
       "      <th>fixed acidity_log</th>\n",
       "      <th>residual sugar_log</th>\n",
       "      <th>chlorides_log</th>\n",
       "      <th>free sulfur dioxide_log</th>\n",
       "      <th>total sulfur dioxide_log</th>\n",
       "      <th>sulphates_log</th>\n",
       "    </tr>\n",
       "  </thead>\n",
       "  <tbody>\n",
       "    <tr>\n",
       "      <th>0</th>\n",
       "      <td>8.4</td>\n",
       "      <td>0.635</td>\n",
       "      <td>0.36</td>\n",
       "      <td>2.0</td>\n",
       "      <td>0.089</td>\n",
       "      <td>15.0</td>\n",
       "      <td>55.0</td>\n",
       "      <td>0.99745</td>\n",
       "      <td>3.31</td>\n",
       "      <td>0.57</td>\n",
       "      <td>10.4</td>\n",
       "      <td>2.240710</td>\n",
       "      <td>1.098612</td>\n",
       "      <td>0.085260</td>\n",
       "      <td>2.772589</td>\n",
       "      <td>4.025352</td>\n",
       "      <td>0.451076</td>\n",
       "    </tr>\n",
       "    <tr>\n",
       "      <th>1</th>\n",
       "      <td>8.3</td>\n",
       "      <td>0.490</td>\n",
       "      <td>0.36</td>\n",
       "      <td>1.8</td>\n",
       "      <td>0.222</td>\n",
       "      <td>6.0</td>\n",
       "      <td>16.0</td>\n",
       "      <td>0.99800</td>\n",
       "      <td>3.18</td>\n",
       "      <td>0.60</td>\n",
       "      <td>9.5</td>\n",
       "      <td>2.230014</td>\n",
       "      <td>1.029619</td>\n",
       "      <td>0.200489</td>\n",
       "      <td>1.945910</td>\n",
       "      <td>2.833213</td>\n",
       "      <td>0.470004</td>\n",
       "    </tr>\n",
       "    <tr>\n",
       "      <th>2</th>\n",
       "      <td>9.0</td>\n",
       "      <td>0.580</td>\n",
       "      <td>0.25</td>\n",
       "      <td>2.0</td>\n",
       "      <td>0.104</td>\n",
       "      <td>8.0</td>\n",
       "      <td>21.0</td>\n",
       "      <td>0.99769</td>\n",
       "      <td>3.27</td>\n",
       "      <td>0.72</td>\n",
       "      <td>9.6</td>\n",
       "      <td>2.302585</td>\n",
       "      <td>1.098612</td>\n",
       "      <td>0.098940</td>\n",
       "      <td>2.197225</td>\n",
       "      <td>3.091042</td>\n",
       "      <td>0.542324</td>\n",
       "    </tr>\n",
       "    <tr>\n",
       "      <th>3</th>\n",
       "      <td>8.1</td>\n",
       "      <td>0.780</td>\n",
       "      <td>0.10</td>\n",
       "      <td>3.3</td>\n",
       "      <td>0.090</td>\n",
       "      <td>4.0</td>\n",
       "      <td>13.0</td>\n",
       "      <td>0.99855</td>\n",
       "      <td>3.36</td>\n",
       "      <td>0.49</td>\n",
       "      <td>9.5</td>\n",
       "      <td>2.208274</td>\n",
       "      <td>1.458615</td>\n",
       "      <td>0.086178</td>\n",
       "      <td>1.609438</td>\n",
       "      <td>2.639057</td>\n",
       "      <td>0.398776</td>\n",
       "    </tr>\n",
       "    <tr>\n",
       "      <th>4</th>\n",
       "      <td>7.5</td>\n",
       "      <td>0.380</td>\n",
       "      <td>0.48</td>\n",
       "      <td>2.6</td>\n",
       "      <td>0.073</td>\n",
       "      <td>22.0</td>\n",
       "      <td>84.0</td>\n",
       "      <td>0.99720</td>\n",
       "      <td>3.32</td>\n",
       "      <td>0.70</td>\n",
       "      <td>9.6</td>\n",
       "      <td>2.140066</td>\n",
       "      <td>1.280934</td>\n",
       "      <td>0.070458</td>\n",
       "      <td>3.135494</td>\n",
       "      <td>4.442651</td>\n",
       "      <td>0.530628</td>\n",
       "    </tr>\n",
       "  </tbody>\n",
       "</table>\n",
       "</div>"
      ],
      "text/plain": [
       "   fixed acidity  volatile acidity  citric acid  residual sugar  chlorides  \\\n",
       "0            8.4             0.635         0.36             2.0      0.089   \n",
       "1            8.3             0.490         0.36             1.8      0.222   \n",
       "2            9.0             0.580         0.25             2.0      0.104   \n",
       "3            8.1             0.780         0.10             3.3      0.090   \n",
       "4            7.5             0.380         0.48             2.6      0.073   \n",
       "\n",
       "   free sulfur dioxide  total sulfur dioxide  density    pH  sulphates  \\\n",
       "0                 15.0                  55.0  0.99745  3.31       0.57   \n",
       "1                  6.0                  16.0  0.99800  3.18       0.60   \n",
       "2                  8.0                  21.0  0.99769  3.27       0.72   \n",
       "3                  4.0                  13.0  0.99855  3.36       0.49   \n",
       "4                 22.0                  84.0  0.99720  3.32       0.70   \n",
       "\n",
       "   alcohol  fixed acidity_log  residual sugar_log  chlorides_log  \\\n",
       "0     10.4           2.240710            1.098612       0.085260   \n",
       "1      9.5           2.230014            1.029619       0.200489   \n",
       "2      9.6           2.302585            1.098612       0.098940   \n",
       "3      9.5           2.208274            1.458615       0.086178   \n",
       "4      9.6           2.140066            1.280934       0.070458   \n",
       "\n",
       "   free sulfur dioxide_log  total sulfur dioxide_log  sulphates_log  \n",
       "0                 2.772589                  4.025352       0.451076  \n",
       "1                 1.945910                  2.833213       0.470004  \n",
       "2                 2.197225                  3.091042       0.542324  \n",
       "3                 1.609438                  2.639057       0.398776  \n",
       "4                 3.135494                  4.442651       0.530628  "
      ]
     },
     "execution_count": 1057,
     "metadata": {},
     "output_type": "execute_result"
    }
   ],
   "source": [
    "X_validation.head()"
   ]
  },
  {
   "cell_type": "code",
   "execution_count": 1058,
   "metadata": {},
   "outputs": [
    {
     "data": {
      "text/plain": [
       "['fixed acidity',\n",
       " 'residual sugar',\n",
       " 'chlorides',\n",
       " 'free sulfur dioxide',\n",
       " 'total sulfur dioxide',\n",
       " 'sulphates']"
      ]
     },
     "execution_count": 1058,
     "metadata": {},
     "output_type": "execute_result"
    }
   ],
   "source": [
    "skewed_list"
   ]
  },
  {
   "cell_type": "code",
   "execution_count": 1059,
   "metadata": {},
   "outputs": [],
   "source": [
    "# Removing list of previously skewed features and rename the dataframes\n",
    "X_train_log = X_train.drop(skewed_list, axis = 1)\n",
    "X_validation_log = X_validation.drop(skewed_list, axis = 1)"
   ]
  },
  {
   "cell_type": "code",
   "execution_count": 1060,
   "metadata": {},
   "outputs": [
    {
     "data": {
      "text/html": [
       "<div>\n",
       "<style scoped>\n",
       "    .dataframe tbody tr th:only-of-type {\n",
       "        vertical-align: middle;\n",
       "    }\n",
       "\n",
       "    .dataframe tbody tr th {\n",
       "        vertical-align: top;\n",
       "    }\n",
       "\n",
       "    .dataframe thead th {\n",
       "        text-align: right;\n",
       "    }\n",
       "</style>\n",
       "<table border=\"1\" class=\"dataframe\">\n",
       "  <thead>\n",
       "    <tr style=\"text-align: right;\">\n",
       "      <th></th>\n",
       "      <th>volatile acidity</th>\n",
       "      <th>citric acid</th>\n",
       "      <th>density</th>\n",
       "      <th>pH</th>\n",
       "      <th>alcohol</th>\n",
       "      <th>fixed acidity_log</th>\n",
       "      <th>residual sugar_log</th>\n",
       "      <th>chlorides_log</th>\n",
       "      <th>free sulfur dioxide_log</th>\n",
       "      <th>total sulfur dioxide_log</th>\n",
       "      <th>sulphates_log</th>\n",
       "    </tr>\n",
       "  </thead>\n",
       "  <tbody>\n",
       "    <tr>\n",
       "      <th>0</th>\n",
       "      <td>0.770</td>\n",
       "      <td>0.00</td>\n",
       "      <td>0.99760</td>\n",
       "      <td>3.62</td>\n",
       "      <td>9.9</td>\n",
       "      <td>2.054124</td>\n",
       "      <td>1.029619</td>\n",
       "      <td>0.063913</td>\n",
       "      <td>3.555348</td>\n",
       "      <td>3.970292</td>\n",
       "      <td>0.518794</td>\n",
       "    </tr>\n",
       "    <tr>\n",
       "      <th>1</th>\n",
       "      <td>0.580</td>\n",
       "      <td>0.30</td>\n",
       "      <td>0.99680</td>\n",
       "      <td>3.46</td>\n",
       "      <td>10.2</td>\n",
       "      <td>2.116256</td>\n",
       "      <td>1.223775</td>\n",
       "      <td>0.071390</td>\n",
       "      <td>2.772589</td>\n",
       "      <td>4.025352</td>\n",
       "      <td>0.463734</td>\n",
       "    </tr>\n",
       "    <tr>\n",
       "      <th>2</th>\n",
       "      <td>0.250</td>\n",
       "      <td>0.49</td>\n",
       "      <td>0.99820</td>\n",
       "      <td>3.42</td>\n",
       "      <td>10.0</td>\n",
       "      <td>2.379546</td>\n",
       "      <td>1.308333</td>\n",
       "      <td>0.084341</td>\n",
       "      <td>2.772589</td>\n",
       "      <td>3.526361</td>\n",
       "      <td>0.641854</td>\n",
       "    </tr>\n",
       "    <tr>\n",
       "      <th>3</th>\n",
       "      <td>0.625</td>\n",
       "      <td>0.66</td>\n",
       "      <td>0.99880</td>\n",
       "      <td>3.11</td>\n",
       "      <td>13.3</td>\n",
       "      <td>2.517696</td>\n",
       "      <td>1.974081</td>\n",
       "      <td>0.084341</td>\n",
       "      <td>1.945910</td>\n",
       "      <td>3.218876</td>\n",
       "      <td>0.688135</td>\n",
       "    </tr>\n",
       "    <tr>\n",
       "      <th>4</th>\n",
       "      <td>0.720</td>\n",
       "      <td>0.00</td>\n",
       "      <td>0.99627</td>\n",
       "      <td>3.45</td>\n",
       "      <td>9.8</td>\n",
       "      <td>2.091864</td>\n",
       "      <td>1.029619</td>\n",
       "      <td>0.116004</td>\n",
       "      <td>1.945910</td>\n",
       "      <td>2.708050</td>\n",
       "      <td>0.457425</td>\n",
       "    </tr>\n",
       "  </tbody>\n",
       "</table>\n",
       "</div>"
      ],
      "text/plain": [
       "   volatile acidity  citric acid  density    pH  alcohol  fixed acidity_log  \\\n",
       "0             0.770         0.00  0.99760  3.62      9.9           2.054124   \n",
       "1             0.580         0.30  0.99680  3.46     10.2           2.116256   \n",
       "2             0.250         0.49  0.99820  3.42     10.0           2.379546   \n",
       "3             0.625         0.66  0.99880  3.11     13.3           2.517696   \n",
       "4             0.720         0.00  0.99627  3.45      9.8           2.091864   \n",
       "\n",
       "   residual sugar_log  chlorides_log  free sulfur dioxide_log  \\\n",
       "0            1.029619       0.063913                 3.555348   \n",
       "1            1.223775       0.071390                 2.772589   \n",
       "2            1.308333       0.084341                 2.772589   \n",
       "3            1.974081       0.084341                 1.945910   \n",
       "4            1.029619       0.116004                 1.945910   \n",
       "\n",
       "   total sulfur dioxide_log  sulphates_log  \n",
       "0                  3.970292       0.518794  \n",
       "1                  4.025352       0.463734  \n",
       "2                  3.526361       0.641854  \n",
       "3                  3.218876       0.688135  \n",
       "4                  2.708050       0.457425  "
      ]
     },
     "execution_count": 1060,
     "metadata": {},
     "output_type": "execute_result"
    }
   ],
   "source": [
    "X_train_log.head()"
   ]
  },
  {
   "cell_type": "code",
   "execution_count": 1061,
   "metadata": {},
   "outputs": [
    {
     "data": {
      "text/html": [
       "<div>\n",
       "<style scoped>\n",
       "    .dataframe tbody tr th:only-of-type {\n",
       "        vertical-align: middle;\n",
       "    }\n",
       "\n",
       "    .dataframe tbody tr th {\n",
       "        vertical-align: top;\n",
       "    }\n",
       "\n",
       "    .dataframe thead th {\n",
       "        text-align: right;\n",
       "    }\n",
       "</style>\n",
       "<table border=\"1\" class=\"dataframe\">\n",
       "  <thead>\n",
       "    <tr style=\"text-align: right;\">\n",
       "      <th></th>\n",
       "      <th>volatile acidity</th>\n",
       "      <th>citric acid</th>\n",
       "      <th>density</th>\n",
       "      <th>pH</th>\n",
       "      <th>alcohol</th>\n",
       "      <th>fixed acidity_log</th>\n",
       "      <th>residual sugar_log</th>\n",
       "      <th>chlorides_log</th>\n",
       "      <th>free sulfur dioxide_log</th>\n",
       "      <th>total sulfur dioxide_log</th>\n",
       "      <th>sulphates_log</th>\n",
       "    </tr>\n",
       "  </thead>\n",
       "  <tbody>\n",
       "    <tr>\n",
       "      <th>0</th>\n",
       "      <td>0.635</td>\n",
       "      <td>0.36</td>\n",
       "      <td>0.99745</td>\n",
       "      <td>3.31</td>\n",
       "      <td>10.4</td>\n",
       "      <td>2.240710</td>\n",
       "      <td>1.098612</td>\n",
       "      <td>0.085260</td>\n",
       "      <td>2.772589</td>\n",
       "      <td>4.025352</td>\n",
       "      <td>0.451076</td>\n",
       "    </tr>\n",
       "    <tr>\n",
       "      <th>1</th>\n",
       "      <td>0.490</td>\n",
       "      <td>0.36</td>\n",
       "      <td>0.99800</td>\n",
       "      <td>3.18</td>\n",
       "      <td>9.5</td>\n",
       "      <td>2.230014</td>\n",
       "      <td>1.029619</td>\n",
       "      <td>0.200489</td>\n",
       "      <td>1.945910</td>\n",
       "      <td>2.833213</td>\n",
       "      <td>0.470004</td>\n",
       "    </tr>\n",
       "    <tr>\n",
       "      <th>2</th>\n",
       "      <td>0.580</td>\n",
       "      <td>0.25</td>\n",
       "      <td>0.99769</td>\n",
       "      <td>3.27</td>\n",
       "      <td>9.6</td>\n",
       "      <td>2.302585</td>\n",
       "      <td>1.098612</td>\n",
       "      <td>0.098940</td>\n",
       "      <td>2.197225</td>\n",
       "      <td>3.091042</td>\n",
       "      <td>0.542324</td>\n",
       "    </tr>\n",
       "    <tr>\n",
       "      <th>3</th>\n",
       "      <td>0.780</td>\n",
       "      <td>0.10</td>\n",
       "      <td>0.99855</td>\n",
       "      <td>3.36</td>\n",
       "      <td>9.5</td>\n",
       "      <td>2.208274</td>\n",
       "      <td>1.458615</td>\n",
       "      <td>0.086178</td>\n",
       "      <td>1.609438</td>\n",
       "      <td>2.639057</td>\n",
       "      <td>0.398776</td>\n",
       "    </tr>\n",
       "    <tr>\n",
       "      <th>4</th>\n",
       "      <td>0.380</td>\n",
       "      <td>0.48</td>\n",
       "      <td>0.99720</td>\n",
       "      <td>3.32</td>\n",
       "      <td>9.6</td>\n",
       "      <td>2.140066</td>\n",
       "      <td>1.280934</td>\n",
       "      <td>0.070458</td>\n",
       "      <td>3.135494</td>\n",
       "      <td>4.442651</td>\n",
       "      <td>0.530628</td>\n",
       "    </tr>\n",
       "  </tbody>\n",
       "</table>\n",
       "</div>"
      ],
      "text/plain": [
       "   volatile acidity  citric acid  density    pH  alcohol  fixed acidity_log  \\\n",
       "0             0.635         0.36  0.99745  3.31     10.4           2.240710   \n",
       "1             0.490         0.36  0.99800  3.18      9.5           2.230014   \n",
       "2             0.580         0.25  0.99769  3.27      9.6           2.302585   \n",
       "3             0.780         0.10  0.99855  3.36      9.5           2.208274   \n",
       "4             0.380         0.48  0.99720  3.32      9.6           2.140066   \n",
       "\n",
       "   residual sugar_log  chlorides_log  free sulfur dioxide_log  \\\n",
       "0            1.098612       0.085260                 2.772589   \n",
       "1            1.029619       0.200489                 1.945910   \n",
       "2            1.098612       0.098940                 2.197225   \n",
       "3            1.458615       0.086178                 1.609438   \n",
       "4            1.280934       0.070458                 3.135494   \n",
       "\n",
       "   total sulfur dioxide_log  sulphates_log  \n",
       "0                  4.025352       0.451076  \n",
       "1                  2.833213       0.470004  \n",
       "2                  3.091042       0.542324  \n",
       "3                  2.639057       0.398776  \n",
       "4                  4.442651       0.530628  "
      ]
     },
     "execution_count": 1061,
     "metadata": {},
     "output_type": "execute_result"
    }
   ],
   "source": [
    "X_validation_log.head()"
   ]
  },
  {
   "cell_type": "code",
   "execution_count": 1062,
   "metadata": {},
   "outputs": [
    {
     "name": "stdout",
     "output_type": "stream",
     "text": [
      "Skew other than -1 to 1: ['residual sugar_log', 'chlorides_log', 'sulphates_log']\n",
      "residual sugar_log : 2.0984027379861296\n",
      "chlorides_log : 4.674366660308375\n",
      "sulphates_log : 1.572284601796296\n"
     ]
    }
   ],
   "source": [
    "# After filtering log and non-log features of same name, ones with still high skew\n",
    "print(f\"Skew other than -1 to 1: {skewed_list_fun(X_train_log)}\")\n",
    "for name in skewed_list_fun(X_train_log):\n",
    "    print(f\"{name} : {X_train_log[name].skew()}\")"
   ]
  },
  {
   "cell_type": "code",
   "execution_count": 1063,
   "metadata": {},
   "outputs": [
    {
     "data": {
      "text/html": [
       "<style>#sk-container-id-19 {\n",
       "  /* Definition of color scheme common for light and dark mode */\n",
       "  --sklearn-color-text: black;\n",
       "  --sklearn-color-line: gray;\n",
       "  /* Definition of color scheme for unfitted estimators */\n",
       "  --sklearn-color-unfitted-level-0: #fff5e6;\n",
       "  --sklearn-color-unfitted-level-1: #f6e4d2;\n",
       "  --sklearn-color-unfitted-level-2: #ffe0b3;\n",
       "  --sklearn-color-unfitted-level-3: chocolate;\n",
       "  /* Definition of color scheme for fitted estimators */\n",
       "  --sklearn-color-fitted-level-0: #f0f8ff;\n",
       "  --sklearn-color-fitted-level-1: #d4ebff;\n",
       "  --sklearn-color-fitted-level-2: #b3dbfd;\n",
       "  --sklearn-color-fitted-level-3: cornflowerblue;\n",
       "\n",
       "  /* Specific color for light theme */\n",
       "  --sklearn-color-text-on-default-background: var(--sg-text-color, var(--theme-code-foreground, var(--jp-content-font-color1, black)));\n",
       "  --sklearn-color-background: var(--sg-background-color, var(--theme-background, var(--jp-layout-color0, white)));\n",
       "  --sklearn-color-border-box: var(--sg-text-color, var(--theme-code-foreground, var(--jp-content-font-color1, black)));\n",
       "  --sklearn-color-icon: #696969;\n",
       "\n",
       "  @media (prefers-color-scheme: dark) {\n",
       "    /* Redefinition of color scheme for dark theme */\n",
       "    --sklearn-color-text-on-default-background: var(--sg-text-color, var(--theme-code-foreground, var(--jp-content-font-color1, white)));\n",
       "    --sklearn-color-background: var(--sg-background-color, var(--theme-background, var(--jp-layout-color0, #111)));\n",
       "    --sklearn-color-border-box: var(--sg-text-color, var(--theme-code-foreground, var(--jp-content-font-color1, white)));\n",
       "    --sklearn-color-icon: #878787;\n",
       "  }\n",
       "}\n",
       "\n",
       "#sk-container-id-19 {\n",
       "  color: var(--sklearn-color-text);\n",
       "}\n",
       "\n",
       "#sk-container-id-19 pre {\n",
       "  padding: 0;\n",
       "}\n",
       "\n",
       "#sk-container-id-19 input.sk-hidden--visually {\n",
       "  border: 0;\n",
       "  clip: rect(1px 1px 1px 1px);\n",
       "  clip: rect(1px, 1px, 1px, 1px);\n",
       "  height: 1px;\n",
       "  margin: -1px;\n",
       "  overflow: hidden;\n",
       "  padding: 0;\n",
       "  position: absolute;\n",
       "  width: 1px;\n",
       "}\n",
       "\n",
       "#sk-container-id-19 div.sk-dashed-wrapped {\n",
       "  border: 1px dashed var(--sklearn-color-line);\n",
       "  margin: 0 0.4em 0.5em 0.4em;\n",
       "  box-sizing: border-box;\n",
       "  padding-bottom: 0.4em;\n",
       "  background-color: var(--sklearn-color-background);\n",
       "}\n",
       "\n",
       "#sk-container-id-19 div.sk-container {\n",
       "  /* jupyter's `normalize.less` sets `[hidden] { display: none; }`\n",
       "     but bootstrap.min.css set `[hidden] { display: none !important; }`\n",
       "     so we also need the `!important` here to be able to override the\n",
       "     default hidden behavior on the sphinx rendered scikit-learn.org.\n",
       "     See: https://github.com/scikit-learn/scikit-learn/issues/21755 */\n",
       "  display: inline-block !important;\n",
       "  position: relative;\n",
       "}\n",
       "\n",
       "#sk-container-id-19 div.sk-text-repr-fallback {\n",
       "  display: none;\n",
       "}\n",
       "\n",
       "div.sk-parallel-item,\n",
       "div.sk-serial,\n",
       "div.sk-item {\n",
       "  /* draw centered vertical line to link estimators */\n",
       "  background-image: linear-gradient(var(--sklearn-color-text-on-default-background), var(--sklearn-color-text-on-default-background));\n",
       "  background-size: 2px 100%;\n",
       "  background-repeat: no-repeat;\n",
       "  background-position: center center;\n",
       "}\n",
       "\n",
       "/* Parallel-specific style estimator block */\n",
       "\n",
       "#sk-container-id-19 div.sk-parallel-item::after {\n",
       "  content: \"\";\n",
       "  width: 100%;\n",
       "  border-bottom: 2px solid var(--sklearn-color-text-on-default-background);\n",
       "  flex-grow: 1;\n",
       "}\n",
       "\n",
       "#sk-container-id-19 div.sk-parallel {\n",
       "  display: flex;\n",
       "  align-items: stretch;\n",
       "  justify-content: center;\n",
       "  background-color: var(--sklearn-color-background);\n",
       "  position: relative;\n",
       "}\n",
       "\n",
       "#sk-container-id-19 div.sk-parallel-item {\n",
       "  display: flex;\n",
       "  flex-direction: column;\n",
       "}\n",
       "\n",
       "#sk-container-id-19 div.sk-parallel-item:first-child::after {\n",
       "  align-self: flex-end;\n",
       "  width: 50%;\n",
       "}\n",
       "\n",
       "#sk-container-id-19 div.sk-parallel-item:last-child::after {\n",
       "  align-self: flex-start;\n",
       "  width: 50%;\n",
       "}\n",
       "\n",
       "#sk-container-id-19 div.sk-parallel-item:only-child::after {\n",
       "  width: 0;\n",
       "}\n",
       "\n",
       "/* Serial-specific style estimator block */\n",
       "\n",
       "#sk-container-id-19 div.sk-serial {\n",
       "  display: flex;\n",
       "  flex-direction: column;\n",
       "  align-items: center;\n",
       "  background-color: var(--sklearn-color-background);\n",
       "  padding-right: 1em;\n",
       "  padding-left: 1em;\n",
       "}\n",
       "\n",
       "\n",
       "/* Toggleable style: style used for estimator/Pipeline/ColumnTransformer box that is\n",
       "clickable and can be expanded/collapsed.\n",
       "- Pipeline and ColumnTransformer use this feature and define the default style\n",
       "- Estimators will overwrite some part of the style using the `sk-estimator` class\n",
       "*/\n",
       "\n",
       "/* Pipeline and ColumnTransformer style (default) */\n",
       "\n",
       "#sk-container-id-19 div.sk-toggleable {\n",
       "  /* Default theme specific background. It is overwritten whether we have a\n",
       "  specific estimator or a Pipeline/ColumnTransformer */\n",
       "  background-color: var(--sklearn-color-background);\n",
       "}\n",
       "\n",
       "/* Toggleable label */\n",
       "#sk-container-id-19 label.sk-toggleable__label {\n",
       "  cursor: pointer;\n",
       "  display: block;\n",
       "  width: 100%;\n",
       "  margin-bottom: 0;\n",
       "  padding: 0.5em;\n",
       "  box-sizing: border-box;\n",
       "  text-align: center;\n",
       "}\n",
       "\n",
       "#sk-container-id-19 label.sk-toggleable__label-arrow:before {\n",
       "  /* Arrow on the left of the label */\n",
       "  content: \"▸\";\n",
       "  float: left;\n",
       "  margin-right: 0.25em;\n",
       "  color: var(--sklearn-color-icon);\n",
       "}\n",
       "\n",
       "#sk-container-id-19 label.sk-toggleable__label-arrow:hover:before {\n",
       "  color: var(--sklearn-color-text);\n",
       "}\n",
       "\n",
       "/* Toggleable content - dropdown */\n",
       "\n",
       "#sk-container-id-19 div.sk-toggleable__content {\n",
       "  max-height: 0;\n",
       "  max-width: 0;\n",
       "  overflow: hidden;\n",
       "  text-align: left;\n",
       "  /* unfitted */\n",
       "  background-color: var(--sklearn-color-unfitted-level-0);\n",
       "}\n",
       "\n",
       "#sk-container-id-19 div.sk-toggleable__content.fitted {\n",
       "  /* fitted */\n",
       "  background-color: var(--sklearn-color-fitted-level-0);\n",
       "}\n",
       "\n",
       "#sk-container-id-19 div.sk-toggleable__content pre {\n",
       "  margin: 0.2em;\n",
       "  border-radius: 0.25em;\n",
       "  color: var(--sklearn-color-text);\n",
       "  /* unfitted */\n",
       "  background-color: var(--sklearn-color-unfitted-level-0);\n",
       "}\n",
       "\n",
       "#sk-container-id-19 div.sk-toggleable__content.fitted pre {\n",
       "  /* unfitted */\n",
       "  background-color: var(--sklearn-color-fitted-level-0);\n",
       "}\n",
       "\n",
       "#sk-container-id-19 input.sk-toggleable__control:checked~div.sk-toggleable__content {\n",
       "  /* Expand drop-down */\n",
       "  max-height: 200px;\n",
       "  max-width: 100%;\n",
       "  overflow: auto;\n",
       "}\n",
       "\n",
       "#sk-container-id-19 input.sk-toggleable__control:checked~label.sk-toggleable__label-arrow:before {\n",
       "  content: \"▾\";\n",
       "}\n",
       "\n",
       "/* Pipeline/ColumnTransformer-specific style */\n",
       "\n",
       "#sk-container-id-19 div.sk-label input.sk-toggleable__control:checked~label.sk-toggleable__label {\n",
       "  color: var(--sklearn-color-text);\n",
       "  background-color: var(--sklearn-color-unfitted-level-2);\n",
       "}\n",
       "\n",
       "#sk-container-id-19 div.sk-label.fitted input.sk-toggleable__control:checked~label.sk-toggleable__label {\n",
       "  background-color: var(--sklearn-color-fitted-level-2);\n",
       "}\n",
       "\n",
       "/* Estimator-specific style */\n",
       "\n",
       "/* Colorize estimator box */\n",
       "#sk-container-id-19 div.sk-estimator input.sk-toggleable__control:checked~label.sk-toggleable__label {\n",
       "  /* unfitted */\n",
       "  background-color: var(--sklearn-color-unfitted-level-2);\n",
       "}\n",
       "\n",
       "#sk-container-id-19 div.sk-estimator.fitted input.sk-toggleable__control:checked~label.sk-toggleable__label {\n",
       "  /* fitted */\n",
       "  background-color: var(--sklearn-color-fitted-level-2);\n",
       "}\n",
       "\n",
       "#sk-container-id-19 div.sk-label label.sk-toggleable__label,\n",
       "#sk-container-id-19 div.sk-label label {\n",
       "  /* The background is the default theme color */\n",
       "  color: var(--sklearn-color-text-on-default-background);\n",
       "}\n",
       "\n",
       "/* On hover, darken the color of the background */\n",
       "#sk-container-id-19 div.sk-label:hover label.sk-toggleable__label {\n",
       "  color: var(--sklearn-color-text);\n",
       "  background-color: var(--sklearn-color-unfitted-level-2);\n",
       "}\n",
       "\n",
       "/* Label box, darken color on hover, fitted */\n",
       "#sk-container-id-19 div.sk-label.fitted:hover label.sk-toggleable__label.fitted {\n",
       "  color: var(--sklearn-color-text);\n",
       "  background-color: var(--sklearn-color-fitted-level-2);\n",
       "}\n",
       "\n",
       "/* Estimator label */\n",
       "\n",
       "#sk-container-id-19 div.sk-label label {\n",
       "  font-family: monospace;\n",
       "  font-weight: bold;\n",
       "  display: inline-block;\n",
       "  line-height: 1.2em;\n",
       "}\n",
       "\n",
       "#sk-container-id-19 div.sk-label-container {\n",
       "  text-align: center;\n",
       "}\n",
       "\n",
       "/* Estimator-specific */\n",
       "#sk-container-id-19 div.sk-estimator {\n",
       "  font-family: monospace;\n",
       "  border: 1px dotted var(--sklearn-color-border-box);\n",
       "  border-radius: 0.25em;\n",
       "  box-sizing: border-box;\n",
       "  margin-bottom: 0.5em;\n",
       "  /* unfitted */\n",
       "  background-color: var(--sklearn-color-unfitted-level-0);\n",
       "}\n",
       "\n",
       "#sk-container-id-19 div.sk-estimator.fitted {\n",
       "  /* fitted */\n",
       "  background-color: var(--sklearn-color-fitted-level-0);\n",
       "}\n",
       "\n",
       "/* on hover */\n",
       "#sk-container-id-19 div.sk-estimator:hover {\n",
       "  /* unfitted */\n",
       "  background-color: var(--sklearn-color-unfitted-level-2);\n",
       "}\n",
       "\n",
       "#sk-container-id-19 div.sk-estimator.fitted:hover {\n",
       "  /* fitted */\n",
       "  background-color: var(--sklearn-color-fitted-level-2);\n",
       "}\n",
       "\n",
       "/* Specification for estimator info (e.g. \"i\" and \"?\") */\n",
       "\n",
       "/* Common style for \"i\" and \"?\" */\n",
       "\n",
       ".sk-estimator-doc-link,\n",
       "a:link.sk-estimator-doc-link,\n",
       "a:visited.sk-estimator-doc-link {\n",
       "  float: right;\n",
       "  font-size: smaller;\n",
       "  line-height: 1em;\n",
       "  font-family: monospace;\n",
       "  background-color: var(--sklearn-color-background);\n",
       "  border-radius: 1em;\n",
       "  height: 1em;\n",
       "  width: 1em;\n",
       "  text-decoration: none !important;\n",
       "  margin-left: 1ex;\n",
       "  /* unfitted */\n",
       "  border: var(--sklearn-color-unfitted-level-1) 1pt solid;\n",
       "  color: var(--sklearn-color-unfitted-level-1);\n",
       "}\n",
       "\n",
       ".sk-estimator-doc-link.fitted,\n",
       "a:link.sk-estimator-doc-link.fitted,\n",
       "a:visited.sk-estimator-doc-link.fitted {\n",
       "  /* fitted */\n",
       "  border: var(--sklearn-color-fitted-level-1) 1pt solid;\n",
       "  color: var(--sklearn-color-fitted-level-1);\n",
       "}\n",
       "\n",
       "/* On hover */\n",
       "div.sk-estimator:hover .sk-estimator-doc-link:hover,\n",
       ".sk-estimator-doc-link:hover,\n",
       "div.sk-label-container:hover .sk-estimator-doc-link:hover,\n",
       ".sk-estimator-doc-link:hover {\n",
       "  /* unfitted */\n",
       "  background-color: var(--sklearn-color-unfitted-level-3);\n",
       "  color: var(--sklearn-color-background);\n",
       "  text-decoration: none;\n",
       "}\n",
       "\n",
       "div.sk-estimator.fitted:hover .sk-estimator-doc-link.fitted:hover,\n",
       ".sk-estimator-doc-link.fitted:hover,\n",
       "div.sk-label-container:hover .sk-estimator-doc-link.fitted:hover,\n",
       ".sk-estimator-doc-link.fitted:hover {\n",
       "  /* fitted */\n",
       "  background-color: var(--sklearn-color-fitted-level-3);\n",
       "  color: var(--sklearn-color-background);\n",
       "  text-decoration: none;\n",
       "}\n",
       "\n",
       "/* Span, style for the box shown on hovering the info icon */\n",
       ".sk-estimator-doc-link span {\n",
       "  display: none;\n",
       "  z-index: 9999;\n",
       "  position: relative;\n",
       "  font-weight: normal;\n",
       "  right: .2ex;\n",
       "  padding: .5ex;\n",
       "  margin: .5ex;\n",
       "  width: min-content;\n",
       "  min-width: 20ex;\n",
       "  max-width: 50ex;\n",
       "  color: var(--sklearn-color-text);\n",
       "  box-shadow: 2pt 2pt 4pt #999;\n",
       "  /* unfitted */\n",
       "  background: var(--sklearn-color-unfitted-level-0);\n",
       "  border: .5pt solid var(--sklearn-color-unfitted-level-3);\n",
       "}\n",
       "\n",
       ".sk-estimator-doc-link.fitted span {\n",
       "  /* fitted */\n",
       "  background: var(--sklearn-color-fitted-level-0);\n",
       "  border: var(--sklearn-color-fitted-level-3);\n",
       "}\n",
       "\n",
       ".sk-estimator-doc-link:hover span {\n",
       "  display: block;\n",
       "}\n",
       "\n",
       "/* \"?\"-specific style due to the `<a>` HTML tag */\n",
       "\n",
       "#sk-container-id-19 a.estimator_doc_link {\n",
       "  float: right;\n",
       "  font-size: 1rem;\n",
       "  line-height: 1em;\n",
       "  font-family: monospace;\n",
       "  background-color: var(--sklearn-color-background);\n",
       "  border-radius: 1rem;\n",
       "  height: 1rem;\n",
       "  width: 1rem;\n",
       "  text-decoration: none;\n",
       "  /* unfitted */\n",
       "  color: var(--sklearn-color-unfitted-level-1);\n",
       "  border: var(--sklearn-color-unfitted-level-1) 1pt solid;\n",
       "}\n",
       "\n",
       "#sk-container-id-19 a.estimator_doc_link.fitted {\n",
       "  /* fitted */\n",
       "  border: var(--sklearn-color-fitted-level-1) 1pt solid;\n",
       "  color: var(--sklearn-color-fitted-level-1);\n",
       "}\n",
       "\n",
       "/* On hover */\n",
       "#sk-container-id-19 a.estimator_doc_link:hover {\n",
       "  /* unfitted */\n",
       "  background-color: var(--sklearn-color-unfitted-level-3);\n",
       "  color: var(--sklearn-color-background);\n",
       "  text-decoration: none;\n",
       "}\n",
       "\n",
       "#sk-container-id-19 a.estimator_doc_link.fitted:hover {\n",
       "  /* fitted */\n",
       "  background-color: var(--sklearn-color-fitted-level-3);\n",
       "}\n",
       "</style><div id=\"sk-container-id-19\" class=\"sk-top-container\"><div class=\"sk-text-repr-fallback\"><pre>LinearRegression()</pre><b>In a Jupyter environment, please rerun this cell to show the HTML representation or trust the notebook. <br />On GitHub, the HTML representation is unable to render, please try loading this page with nbviewer.org.</b></div><div class=\"sk-container\" hidden><div class=\"sk-item\"><div class=\"sk-estimator fitted sk-toggleable\"><input class=\"sk-toggleable__control sk-hidden--visually\" id=\"sk-estimator-id-19\" type=\"checkbox\" checked><label for=\"sk-estimator-id-19\" class=\"sk-toggleable__label fitted sk-toggleable__label-arrow fitted\">&nbsp;&nbsp;LinearRegression<a class=\"sk-estimator-doc-link fitted\" rel=\"noreferrer\" target=\"_blank\" href=\"https://scikit-learn.org/1.5/modules/generated/sklearn.linear_model.LinearRegression.html\">?<span>Documentation for LinearRegression</span></a><span class=\"sk-estimator-doc-link fitted\">i<span>Fitted</span></span></label><div class=\"sk-toggleable__content fitted\"><pre>LinearRegression()</pre></div> </div></div></div></div>"
      ],
      "text/plain": [
       "LinearRegression()"
      ]
     },
     "execution_count": 1063,
     "metadata": {},
     "output_type": "execute_result"
    }
   ],
   "source": [
    "# Model - After reducing skewness\n",
    "model.fit(X_train_log, y_train)"
   ]
  },
  {
   "cell_type": "code",
   "execution_count": 1064,
   "metadata": {},
   "outputs": [],
   "source": [
    "# Predicting\n",
    "y_pred = model.predict(X_validation_log)"
   ]
  },
  {
   "cell_type": "code",
   "execution_count": 1065,
   "metadata": {},
   "outputs": [
    {
     "name": "stdout",
     "output_type": "stream",
     "text": [
      "MSE: 0.4202819677159197\n",
      "RMSE: 0.6482915761568399\n"
     ]
    }
   ],
   "source": [
    "# Error\n",
    "print(f\"MSE: {mean_squared_error(y_validation, y_pred)}\")\n",
    "print(f\"RMSE: {root_mean_squared_error(y_validation, y_pred)}\")"
   ]
  },
  {
   "cell_type": "code",
   "execution_count": 1066,
   "metadata": {},
   "outputs": [
    {
     "data": {
      "text/plain": [
       "0.35615951328301454"
      ]
     },
     "execution_count": 1066,
     "metadata": {},
     "output_type": "execute_result"
    }
   ],
   "source": [
    "# R2 Score\n",
    "r2_score(y_validation, y_pred)"
   ]
  },
  {
   "cell_type": "code",
   "execution_count": 1067,
   "metadata": {},
   "outputs": [
    {
     "name": "stdout",
     "output_type": "stream",
     "text": [
      "Skew crossing -1 to 1 range for X_train_log: ['residual sugar_log', 'chlorides_log', 'sulphates_log']\n",
      "Skew crossing -1 to 1 range for X_validation_log: ['residual sugar_log', 'chlorides_log', 'sulphates_log']\n"
     ]
    }
   ],
   "source": [
    "print(f\"Skew crossing -1 to 1 range for X_train_log: {skewed_list_fun(X_train_log)}\")\n",
    "print(f\"Skew crossing -1 to 1 range for X_validation_log: {skewed_list_fun(X_validation_log)}\")"
   ]
  },
  {
   "cell_type": "code",
   "execution_count": 1068,
   "metadata": {},
   "outputs": [
    {
     "name": "stdout",
     "output_type": "stream",
     "text": [
      "Skew of chlorides_log: 4.674366660308375\n",
      "Skew of chlorides_log after log function (again): 4.308872110013141\n"
     ]
    },
    {
     "data": {
      "text/plain": [
       "\" Value hasn't really changed so we use another method \""
      ]
     },
     "execution_count": 1068,
     "metadata": {},
     "output_type": "execute_result"
    }
   ],
   "source": [
    "print(f\"Skew of chlorides_log: {X_train_log['chlorides_log'].skew()}\")\n",
    "X_train_log['chlorides_log'] = np.log1p(X_train_log['chlorides_log'])\n",
    "print(f\"Skew of chlorides_log after log function (again): {X_train_log['chlorides_log'].skew()}\")\n",
    "''' Value hasn't really changed so we use another method '''"
   ]
  },
  {
   "cell_type": "code",
   "execution_count": 1069,
   "metadata": {},
   "outputs": [
    {
     "name": "stdout",
     "output_type": "stream",
     "text": [
      "Skewness of all features in given dataframe: \n",
      "free sulfur dioxide_log = -0.08503794279569414\n",
      "density = -0.0721368587006527\n",
      "total sulfur dioxide_log = -0.06364767066361943\n",
      "pH = 0.15605144433933577\n",
      "citric acid = 0.29487725679585225\n",
      "fixed acidity_log = 0.4647473972322844\n",
      "volatile acidity = 0.7215297851296966\n",
      "alcohol = 0.9518607069483428\n",
      "sulphates_log = 1.572284601796296\n",
      "residual sugar_log = 2.0984027379861296\n",
      "chlorides_log = 4.308872110013141\n"
     ]
    }
   ],
   "source": [
    "from scipy import stats\n",
    "skew_calc(X_train_log)"
   ]
  },
  {
   "cell_type": "code",
   "execution_count": 1070,
   "metadata": {},
   "outputs": [],
   "source": [
    "# Box Cox only works for positives, for training\n",
    "X_train_log['chlorides_log'] = stats.boxcox(X_train_log['chlorides_log'])[0]\n",
    "X_train_log['residual sugar_log'] = stats.boxcox(X_train_log['residual sugar_log'])[0]\n",
    "X_train_log['sulphates_log'] = stats.boxcox(X_train_log['sulphates_log'])[0]"
   ]
  },
  {
   "cell_type": "code",
   "execution_count": 1071,
   "metadata": {},
   "outputs": [
    {
     "name": "stdout",
     "output_type": "stream",
     "text": [
      "Skewness of all features in given dataframe: \n",
      "chlorides_log = -0.35271509901878\n",
      "residual sugar_log = -0.12142250668345902\n",
      "free sulfur dioxide_log = -0.08503794279569414\n",
      "density = -0.0721368587006527\n",
      "total sulfur dioxide_log = -0.06364767066361943\n",
      "sulphates_log = -0.018920864587467414\n",
      "pH = 0.15605144433933577\n",
      "citric acid = 0.29487725679585225\n",
      "fixed acidity_log = 0.4647473972322844\n",
      "volatile acidity = 0.7215297851296966\n",
      "alcohol = 0.9518607069483428\n"
     ]
    }
   ],
   "source": [
    "skew_calc(X_train_log) # Skewness of all features between -1 to 1 now"
   ]
  },
  {
   "cell_type": "code",
   "execution_count": 1072,
   "metadata": {},
   "outputs": [
    {
     "name": "stdout",
     "output_type": "stream",
     "text": [
      "Skewness of all features in given dataframe: \n",
      "free sulfur dioxide_log = -0.12222308372900223\n",
      "total sulfur dioxide_log = 0.02539383443247844\n",
      "density = 0.08037243743089047\n",
      "pH = 0.21089196121493933\n",
      "citric acid = 0.43551943208901694\n",
      "fixed acidity_log = 0.43992593673903413\n",
      "volatile acidity = 0.4515967325978047\n",
      "alcohol = 0.7804606875056638\n",
      "sulphates_log = 2.055768975593893\n",
      "residual sugar_log = 2.0782371427498028\n",
      "chlorides_log = 7.066773403190184\n"
     ]
    }
   ],
   "source": [
    "skew_calc(X_validation_log)"
   ]
  },
  {
   "cell_type": "code",
   "execution_count": 1073,
   "metadata": {},
   "outputs": [],
   "source": [
    "# Box Cox only works for positives, for validation\n",
    "X_validation_log['chlorides_log'] = stats.boxcox(X_validation_log['chlorides_log'])[0]\n",
    "X_validation_log['residual sugar_log'] = stats.boxcox(X_validation_log['residual sugar_log'])[0]\n",
    "X_validation_log['sulphates_log'] = stats.boxcox(X_validation_log['sulphates_log'])[0]"
   ]
  },
  {
   "cell_type": "code",
   "execution_count": 1074,
   "metadata": {},
   "outputs": [
    {
     "name": "stdout",
     "output_type": "stream",
     "text": [
      "Skewness of all features in given dataframe: \n",
      "chlorides_log = -0.2200941123170831\n",
      "free sulfur dioxide_log = -0.12222308372900223\n",
      "residual sugar_log = -0.056895803660988474\n",
      "sulphates_log = -0.04697428770404776\n",
      "total sulfur dioxide_log = 0.02539383443247844\n",
      "density = 0.08037243743089047\n",
      "pH = 0.21089196121493933\n",
      "citric acid = 0.43551943208901694\n",
      "fixed acidity_log = 0.43992593673903413\n",
      "volatile acidity = 0.4515967325978047\n",
      "alcohol = 0.7804606875056638\n"
     ]
    }
   ],
   "source": [
    "skew_calc(X_validation_log) # Skewness of all features between -1 to 1 now"
   ]
  },
  {
   "cell_type": "code",
   "execution_count": 1075,
   "metadata": {},
   "outputs": [],
   "source": [
    "# All skew under -1 to 1 now\n",
    "model.fit(X_train_log, y_train)\n",
    "\n",
    "# Predicting\n",
    "y_preds = model.predict(X_validation_log)"
   ]
  },
  {
   "cell_type": "code",
   "execution_count": 1076,
   "metadata": {},
   "outputs": [
    {
     "data": {
      "text/plain": [
       "0.63909132888801"
      ]
     },
     "execution_count": 1076,
     "metadata": {},
     "output_type": "execute_result"
    }
   ],
   "source": [
    "# MSE\n",
    "mean_squared_error(y_validation, y_preds)"
   ]
  },
  {
   "cell_type": "code",
   "execution_count": 1081,
   "metadata": {},
   "outputs": [
    {
     "data": {
      "text/plain": [
       "0.7994318788289656"
      ]
     },
     "execution_count": 1081,
     "metadata": {},
     "output_type": "execute_result"
    }
   ],
   "source": [
    "# RMSE\n",
    "root_mean_squared_error(y_validation, y_preds)"
   ]
  },
  {
   "cell_type": "code",
   "execution_count": 1077,
   "metadata": {},
   "outputs": [
    {
     "data": {
      "text/plain": [
       "0.020959965320264562"
      ]
     },
     "execution_count": 1077,
     "metadata": {},
     "output_type": "execute_result"
    }
   ],
   "source": [
    "# R2 Score\n",
    "r2_score(y_validation, y_preds) # Worse"
   ]
  },
  {
   "cell_type": "code",
   "execution_count": 1078,
   "metadata": {},
   "outputs": [
    {
     "data": {
      "text/plain": [
       "' Box plot after skewness was limited to -1 to 1 '"
      ]
     },
     "execution_count": 1078,
     "metadata": {},
     "output_type": "execute_result"
    }
   ],
   "source": [
    "''' Box plot after skewness was limited to -1 to 1 '''\n",
    "# box_plot_all(X_train_log, \"train\")"
   ]
  },
  {
   "cell_type": "code",
   "execution_count": 1079,
   "metadata": {},
   "outputs": [
    {
     "data": {
      "text/plain": [
       "' Hist plot after skewness was limited to - 1 to 1 '"
      ]
     },
     "execution_count": 1079,
     "metadata": {},
     "output_type": "execute_result"
    }
   ],
   "source": [
    "''' Hist plot after skewness was limited to - 1 to 1 '''\n",
    "# hist_plot_all(X_train_log, 'train') "
   ]
  },
  {
   "cell_type": "code",
   "execution_count": 1080,
   "metadata": {},
   "outputs": [],
   "source": [
    "# Using log to decrease skew isn't really helping here\n",
    "# Substituting the outliers with mean, median, other values"
   ]
  }
 ],
 "metadata": {
  "kernelspec": {
   "display_name": "machinelearning",
   "language": "python",
   "name": "python3"
  },
  "language_info": {
   "codemirror_mode": {
    "name": "ipython",
    "version": 3
   },
   "file_extension": ".py",
   "mimetype": "text/x-python",
   "name": "python",
   "nbconvert_exporter": "python",
   "pygments_lexer": "ipython3",
   "version": "3.12.1"
  }
 },
 "nbformat": 4,
 "nbformat_minor": 2
}
