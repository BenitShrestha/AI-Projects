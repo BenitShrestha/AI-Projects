{
 "cells": [
  {
   "cell_type": "code",
   "execution_count": 264,
   "metadata": {},
   "outputs": [
    {
     "name": "stdout",
     "output_type": "stream",
     "text": [
      "Hello World\n"
     ]
    }
   ],
   "source": [
    "print(\"Hello World\")"
   ]
  },
  {
   "cell_type": "code",
   "execution_count": 265,
   "metadata": {},
   "outputs": [],
   "source": [
    "# Import necessary libraries\n",
    "import pandas as pd\n",
    "import numpy as np \n",
    "import matplotlib.pyplot as plt\n",
    "import seaborn as sns\n",
    "from sklearn.linear_model import LinearRegression\n",
    "from sklearn.metrics import mean_squared_error, r2_score, root_mean_squared_error"
   ]
  },
  {
   "cell_type": "code",
   "execution_count": 266,
   "metadata": {},
   "outputs": [],
   "source": [
    "# Load train and validation datasets\n",
    "df_train = pd.read_csv(\"data_files/train.csv\")\n",
    "df_validation = pd.read_csv(\"data_files/validation.csv\")"
   ]
  },
  {
   "cell_type": "code",
   "execution_count": 267,
   "metadata": {},
   "outputs": [
    {
     "data": {
      "text/html": [
       "<div>\n",
       "<style scoped>\n",
       "    .dataframe tbody tr th:only-of-type {\n",
       "        vertical-align: middle;\n",
       "    }\n",
       "\n",
       "    .dataframe tbody tr th {\n",
       "        vertical-align: top;\n",
       "    }\n",
       "\n",
       "    .dataframe thead th {\n",
       "        text-align: right;\n",
       "    }\n",
       "</style>\n",
       "<table border=\"1\" class=\"dataframe\">\n",
       "  <thead>\n",
       "    <tr style=\"text-align: right;\">\n",
       "      <th></th>\n",
       "      <th>fixed acidity</th>\n",
       "      <th>volatile acidity</th>\n",
       "      <th>citric acid</th>\n",
       "      <th>residual sugar</th>\n",
       "      <th>chlorides</th>\n",
       "      <th>free sulfur dioxide</th>\n",
       "      <th>total sulfur dioxide</th>\n",
       "      <th>density</th>\n",
       "      <th>pH</th>\n",
       "      <th>sulphates</th>\n",
       "      <th>alcohol</th>\n",
       "      <th>quality</th>\n",
       "    </tr>\n",
       "  </thead>\n",
       "  <tbody>\n",
       "    <tr>\n",
       "      <th>0</th>\n",
       "      <td>6.8</td>\n",
       "      <td>0.770</td>\n",
       "      <td>0.00</td>\n",
       "      <td>1.8</td>\n",
       "      <td>0.066</td>\n",
       "      <td>34.0</td>\n",
       "      <td>52.0</td>\n",
       "      <td>0.99760</td>\n",
       "      <td>3.62</td>\n",
       "      <td>0.68</td>\n",
       "      <td>9.9</td>\n",
       "      <td>5</td>\n",
       "    </tr>\n",
       "    <tr>\n",
       "      <th>1</th>\n",
       "      <td>7.3</td>\n",
       "      <td>0.580</td>\n",
       "      <td>0.30</td>\n",
       "      <td>2.4</td>\n",
       "      <td>0.074</td>\n",
       "      <td>15.0</td>\n",
       "      <td>55.0</td>\n",
       "      <td>0.99680</td>\n",
       "      <td>3.46</td>\n",
       "      <td>0.59</td>\n",
       "      <td>10.2</td>\n",
       "      <td>5</td>\n",
       "    </tr>\n",
       "    <tr>\n",
       "      <th>2</th>\n",
       "      <td>9.8</td>\n",
       "      <td>0.250</td>\n",
       "      <td>0.49</td>\n",
       "      <td>2.7</td>\n",
       "      <td>0.088</td>\n",
       "      <td>15.0</td>\n",
       "      <td>33.0</td>\n",
       "      <td>0.99820</td>\n",
       "      <td>3.42</td>\n",
       "      <td>0.90</td>\n",
       "      <td>10.0</td>\n",
       "      <td>6</td>\n",
       "    </tr>\n",
       "    <tr>\n",
       "      <th>3</th>\n",
       "      <td>11.4</td>\n",
       "      <td>0.625</td>\n",
       "      <td>0.66</td>\n",
       "      <td>6.2</td>\n",
       "      <td>0.088</td>\n",
       "      <td>6.0</td>\n",
       "      <td>24.0</td>\n",
       "      <td>0.99880</td>\n",
       "      <td>3.11</td>\n",
       "      <td>0.99</td>\n",
       "      <td>13.3</td>\n",
       "      <td>6</td>\n",
       "    </tr>\n",
       "    <tr>\n",
       "      <th>4</th>\n",
       "      <td>7.1</td>\n",
       "      <td>0.720</td>\n",
       "      <td>0.00</td>\n",
       "      <td>1.8</td>\n",
       "      <td>0.123</td>\n",
       "      <td>6.0</td>\n",
       "      <td>14.0</td>\n",
       "      <td>0.99627</td>\n",
       "      <td>3.45</td>\n",
       "      <td>0.58</td>\n",
       "      <td>9.8</td>\n",
       "      <td>5</td>\n",
       "    </tr>\n",
       "  </tbody>\n",
       "</table>\n",
       "</div>"
      ],
      "text/plain": [
       "   fixed acidity  volatile acidity  citric acid  residual sugar  chlorides  \\\n",
       "0            6.8             0.770         0.00             1.8      0.066   \n",
       "1            7.3             0.580         0.30             2.4      0.074   \n",
       "2            9.8             0.250         0.49             2.7      0.088   \n",
       "3           11.4             0.625         0.66             6.2      0.088   \n",
       "4            7.1             0.720         0.00             1.8      0.123   \n",
       "\n",
       "   free sulfur dioxide  total sulfur dioxide  density    pH  sulphates  \\\n",
       "0                 34.0                  52.0  0.99760  3.62       0.68   \n",
       "1                 15.0                  55.0  0.99680  3.46       0.59   \n",
       "2                 15.0                  33.0  0.99820  3.42       0.90   \n",
       "3                  6.0                  24.0  0.99880  3.11       0.99   \n",
       "4                  6.0                  14.0  0.99627  3.45       0.58   \n",
       "\n",
       "   alcohol  quality  \n",
       "0      9.9        5  \n",
       "1     10.2        5  \n",
       "2     10.0        6  \n",
       "3     13.3        6  \n",
       "4      9.8        5  "
      ]
     },
     "execution_count": 267,
     "metadata": {},
     "output_type": "execute_result"
    }
   ],
   "source": [
    "df_train.head()"
   ]
  },
  {
   "cell_type": "code",
   "execution_count": 268,
   "metadata": {},
   "outputs": [
    {
     "data": {
      "text/html": [
       "<div>\n",
       "<style scoped>\n",
       "    .dataframe tbody tr th:only-of-type {\n",
       "        vertical-align: middle;\n",
       "    }\n",
       "\n",
       "    .dataframe tbody tr th {\n",
       "        vertical-align: top;\n",
       "    }\n",
       "\n",
       "    .dataframe thead th {\n",
       "        text-align: right;\n",
       "    }\n",
       "</style>\n",
       "<table border=\"1\" class=\"dataframe\">\n",
       "  <thead>\n",
       "    <tr style=\"text-align: right;\">\n",
       "      <th></th>\n",
       "      <th>fixed acidity</th>\n",
       "      <th>volatile acidity</th>\n",
       "      <th>citric acid</th>\n",
       "      <th>residual sugar</th>\n",
       "      <th>chlorides</th>\n",
       "      <th>free sulfur dioxide</th>\n",
       "      <th>total sulfur dioxide</th>\n",
       "      <th>density</th>\n",
       "      <th>pH</th>\n",
       "      <th>sulphates</th>\n",
       "      <th>alcohol</th>\n",
       "      <th>quality</th>\n",
       "    </tr>\n",
       "  </thead>\n",
       "  <tbody>\n",
       "    <tr>\n",
       "      <th>0</th>\n",
       "      <td>8.4</td>\n",
       "      <td>0.635</td>\n",
       "      <td>0.36</td>\n",
       "      <td>2.0</td>\n",
       "      <td>0.089</td>\n",
       "      <td>15.0</td>\n",
       "      <td>55.0</td>\n",
       "      <td>0.99745</td>\n",
       "      <td>3.31</td>\n",
       "      <td>0.57</td>\n",
       "      <td>10.4</td>\n",
       "      <td>4</td>\n",
       "    </tr>\n",
       "    <tr>\n",
       "      <th>1</th>\n",
       "      <td>8.3</td>\n",
       "      <td>0.490</td>\n",
       "      <td>0.36</td>\n",
       "      <td>1.8</td>\n",
       "      <td>0.222</td>\n",
       "      <td>6.0</td>\n",
       "      <td>16.0</td>\n",
       "      <td>0.99800</td>\n",
       "      <td>3.18</td>\n",
       "      <td>0.60</td>\n",
       "      <td>9.5</td>\n",
       "      <td>6</td>\n",
       "    </tr>\n",
       "    <tr>\n",
       "      <th>2</th>\n",
       "      <td>9.0</td>\n",
       "      <td>0.580</td>\n",
       "      <td>0.25</td>\n",
       "      <td>2.0</td>\n",
       "      <td>0.104</td>\n",
       "      <td>8.0</td>\n",
       "      <td>21.0</td>\n",
       "      <td>0.99769</td>\n",
       "      <td>3.27</td>\n",
       "      <td>0.72</td>\n",
       "      <td>9.6</td>\n",
       "      <td>5</td>\n",
       "    </tr>\n",
       "    <tr>\n",
       "      <th>3</th>\n",
       "      <td>8.1</td>\n",
       "      <td>0.780</td>\n",
       "      <td>0.10</td>\n",
       "      <td>3.3</td>\n",
       "      <td>0.090</td>\n",
       "      <td>4.0</td>\n",
       "      <td>13.0</td>\n",
       "      <td>0.99855</td>\n",
       "      <td>3.36</td>\n",
       "      <td>0.49</td>\n",
       "      <td>9.5</td>\n",
       "      <td>5</td>\n",
       "    </tr>\n",
       "    <tr>\n",
       "      <th>4</th>\n",
       "      <td>7.5</td>\n",
       "      <td>0.380</td>\n",
       "      <td>0.48</td>\n",
       "      <td>2.6</td>\n",
       "      <td>0.073</td>\n",
       "      <td>22.0</td>\n",
       "      <td>84.0</td>\n",
       "      <td>0.99720</td>\n",
       "      <td>3.32</td>\n",
       "      <td>0.70</td>\n",
       "      <td>9.6</td>\n",
       "      <td>4</td>\n",
       "    </tr>\n",
       "  </tbody>\n",
       "</table>\n",
       "</div>"
      ],
      "text/plain": [
       "   fixed acidity  volatile acidity  citric acid  residual sugar  chlorides  \\\n",
       "0            8.4             0.635         0.36             2.0      0.089   \n",
       "1            8.3             0.490         0.36             1.8      0.222   \n",
       "2            9.0             0.580         0.25             2.0      0.104   \n",
       "3            8.1             0.780         0.10             3.3      0.090   \n",
       "4            7.5             0.380         0.48             2.6      0.073   \n",
       "\n",
       "   free sulfur dioxide  total sulfur dioxide  density    pH  sulphates  \\\n",
       "0                 15.0                  55.0  0.99745  3.31       0.57   \n",
       "1                  6.0                  16.0  0.99800  3.18       0.60   \n",
       "2                  8.0                  21.0  0.99769  3.27       0.72   \n",
       "3                  4.0                  13.0  0.99855  3.36       0.49   \n",
       "4                 22.0                  84.0  0.99720  3.32       0.70   \n",
       "\n",
       "   alcohol  quality  \n",
       "0     10.4        4  \n",
       "1      9.5        6  \n",
       "2      9.6        5  \n",
       "3      9.5        5  \n",
       "4      9.6        4  "
      ]
     },
     "execution_count": 268,
     "metadata": {},
     "output_type": "execute_result"
    }
   ],
   "source": [
    "df_validation.head()"
   ]
  },
  {
   "cell_type": "code",
   "execution_count": 269,
   "metadata": {},
   "outputs": [],
   "source": [
    "# Dividing training data into input features and target features\n",
    "X_train = df_train.drop('quality', axis = 1)\n",
    "y_train = df_train['quality']"
   ]
  },
  {
   "cell_type": "code",
   "execution_count": 270,
   "metadata": {},
   "outputs": [],
   "source": [
    "# Dividing validation data into input features and target features\n",
    "X_validation = df_validation.drop('quality', axis = 1)\n",
    "y_validation = df_validation['quality']"
   ]
  },
  {
   "cell_type": "code",
   "execution_count": 271,
   "metadata": {},
   "outputs": [],
   "source": [
    "# Function for LinearRegression Model\n",
    "def linear_regression(X_train, y_train, X_validation, y_validation):\n",
    "    # Defining the model\n",
    "    model = LinearRegression()\n",
    "\n",
    "    # Fitting the model\n",
    "    model.fit(X_train, y_train)\n",
    "\n",
    "    # Predicting\n",
    "    y_pred = model.predict(X_validation)\n",
    "\n",
    "    print(f\"Using Linear Regression Model: \")\n",
    "\n",
    "    # Error\n",
    "    print(f\"MSE: {mean_squared_error(y_validation, y_pred)}\")\n",
    "    print(f\"RMSE: {root_mean_squared_error(y_validation, y_pred)}\")\n",
    "\n",
    "    # R2 Score\n",
    "    print(f\"R2 Score: {r2_score(y_validation, y_pred)}\")"
   ]
  },
  {
   "cell_type": "code",
   "execution_count": 272,
   "metadata": {},
   "outputs": [
    {
     "name": "stdout",
     "output_type": "stream",
     "text": [
      "Without any data wrangling or EDA:\n",
      "Using Linear Regression Model: \n",
      "MSE: 0.42766180439680423\n",
      "RMSE: 0.6539585647400027\n",
      "R2 Score: 0.34485415639050987\n"
     ]
    }
   ],
   "source": [
    "# Not wrangling or EDA\n",
    "print(\"Without any data wrangling or EDA:\")\n",
    "linear_regression(X_train, y_train, X_validation, y_validation)"
   ]
  },
  {
   "cell_type": "code",
   "execution_count": 273,
   "metadata": {},
   "outputs": [],
   "source": [
    "# Function to plot histplot of all features of a dataframe\n",
    "def hist_plot_all(df, data):\n",
    "    print(f\"Visualize Histplot for {data} data\")\n",
    "    for name in df:\n",
    "        print(f\"{name}: \")\n",
    "        sns.histplot(df[name], kde = True)\n",
    "        plt.show()\n",
    "\n"
   ]
  },
  {
   "cell_type": "code",
   "execution_count": 274,
   "metadata": {},
   "outputs": [],
   "source": [
    "# Function to plot boxplot of all features of a dataframe\n",
    "def box_plot_all(df, data):\n",
    "    print(f\"Visualizing boxplots of {data} data: \")\n",
    "    for name in df:\n",
    "        print(f\"{name}: \")\n",
    "        sns.boxplot(df[name], orient = \"h\")\n",
    "        plt.show()"
   ]
  },
  {
   "cell_type": "code",
   "execution_count": 275,
   "metadata": {},
   "outputs": [],
   "source": [
    "# hist_plot_all(X_train, \"train\")"
   ]
  },
  {
   "cell_type": "code",
   "execution_count": 276,
   "metadata": {},
   "outputs": [],
   "source": [
    "# hist_plot_all(X_validation, \"validation\")"
   ]
  },
  {
   "cell_type": "code",
   "execution_count": 277,
   "metadata": {},
   "outputs": [],
   "source": [
    "# box_plot_all(X_train, \"train\")"
   ]
  },
  {
   "cell_type": "code",
   "execution_count": 278,
   "metadata": {},
   "outputs": [],
   "source": [
    "# box_plot_all(X_validation, \"validation\")"
   ]
  },
  {
   "cell_type": "code",
   "execution_count": 279,
   "metadata": {},
   "outputs": [],
   "source": [
    "# Calculate skewness of all features in a dataframe\n",
    "def skew_calc(df):\n",
    "    skew_vals_rev = {df[name].skew():name for name in df}\n",
    "    skew_vals_rev_sorted = dict(sorted(skew_vals_rev.items()))\n",
    "    skew_vals = {value:key for key, value in skew_vals_rev_sorted.items()}\n",
    "    print(f\"Skewness of all features in given dataframe: \")\n",
    "    for key, value in skew_vals.items():\n",
    "        print(f\"{key} = {value}\")"
   ]
  },
  {
   "cell_type": "code",
   "execution_count": 280,
   "metadata": {},
   "outputs": [
    {
     "name": "stdout",
     "output_type": "stream",
     "text": [
      "Skewness of all features in given dataframe: \n",
      "density = -0.0721368587006527\n",
      "pH = 0.15605144433933577\n",
      "citric acid = 0.29487725679585225\n",
      "volatile acidity = 0.7215297851296966\n",
      "alcohol = 0.9518607069483428\n",
      "fixed acidity = 1.0062538933982945\n",
      "free sulfur dioxide = 1.3886754658770064\n",
      "total sulfur dioxide = 1.4384967043965162\n",
      "sulphates = 2.35648257662985\n",
      "residual sugar = 4.117849533942754\n",
      "chlorides = 5.14337824959792\n"
     ]
    }
   ],
   "source": [
    "# Calculate skewness of features in X_train, print in increasing order\n",
    "skew_calc(X_train)"
   ]
  },
  {
   "cell_type": "code",
   "execution_count": 281,
   "metadata": {},
   "outputs": [],
   "source": [
    "# Function to generate a list of features which have skewness not in range -1 to 1\n",
    "def skewed_list_fun(df):\n",
    "    skewed_list = [name for name in df if df[name].skew() > 1 or df[name].skew() < -1]\n",
    "    return skewed_list"
   ]
  },
  {
   "cell_type": "code",
   "execution_count": 282,
   "metadata": {},
   "outputs": [
    {
     "name": "stdout",
     "output_type": "stream",
     "text": [
      "['fixed acidity', 'residual sugar', 'chlorides', 'free sulfur dioxide', 'total sulfur dioxide', 'sulphates']\n"
     ]
    }
   ],
   "source": [
    "skewed_list = skewed_list_fun(X_train)\n",
    "print(skewed_list)"
   ]
  },
  {
   "cell_type": "code",
   "execution_count": 283,
   "metadata": {},
   "outputs": [
    {
     "name": "stdout",
     "output_type": "stream",
     "text": [
      "Skewness of all features in given dataframe: \n",
      "fixed acidity = 1.0062538933982945\n",
      "free sulfur dioxide = 1.3886754658770064\n",
      "total sulfur dioxide = 1.4384967043965162\n",
      "sulphates = 2.35648257662985\n",
      "residual sugar = 4.117849533942754\n",
      "chlorides = 5.14337824959792\n"
     ]
    }
   ],
   "source": [
    "skew_calc(X_train[skewed_list])"
   ]
  },
  {
   "cell_type": "code",
   "execution_count": 284,
   "metadata": {},
   "outputs": [],
   "source": [
    "# Initial log transformation to reduce skewness\n",
    "for name in skewed_list:\n",
    "    X_train[f\"{name}_log\"] = np.log1p(X_train[name])\n",
    "    X_validation[f\"{name}_log\"] = np.log1p(X_validation[name])"
   ]
  },
  {
   "cell_type": "code",
   "execution_count": 285,
   "metadata": {},
   "outputs": [
    {
     "name": "stdout",
     "output_type": "stream",
     "text": [
      "Skewness of all features in given dataframe: \n",
      "fixed acidity = 1.0062538933982945\n",
      "free sulfur dioxide = 1.3886754658770064\n",
      "total sulfur dioxide = 1.4384967043965162\n",
      "sulphates_log = 1.572284601796296\n",
      "residual sugar_log = 2.0984027379861296\n",
      "sulphates = 2.35648257662985\n",
      "residual sugar = 4.117849533942754\n",
      "chlorides_log = 4.674366660308375\n",
      "chlorides = 5.14337824959792\n"
     ]
    }
   ],
   "source": [
    "# Skew calculation after log function, X_train\n",
    "train_skewed_list = skewed_list_fun(X_train)\n",
    "skew_calc(X_train[train_skewed_list])"
   ]
  },
  {
   "cell_type": "code",
   "execution_count": 286,
   "metadata": {},
   "outputs": [
    {
     "name": "stdout",
     "output_type": "stream",
     "text": [
      "Skewness of all features in given dataframe: \n",
      "total sulfur dioxide = 1.2129466935375377\n",
      "sulphates_log = 2.055768975593893\n",
      "residual sugar_log = 2.0782371427498028\n",
      "sulphates = 3.153049050487913\n",
      "residual sugar = 4.121244495152995\n",
      "chlorides_log = 7.066773403190184\n",
      "chlorides = 8.109402367221042\n"
     ]
    }
   ],
   "source": [
    "# Skew calculation after log function, X_validation\n",
    "valid_skewed_list = skewed_list_fun(X_validation)\n",
    "skew_calc(X_validation[valid_skewed_list])"
   ]
  },
  {
   "cell_type": "code",
   "execution_count": 287,
   "metadata": {},
   "outputs": [
    {
     "data": {
      "text/html": [
       "<div>\n",
       "<style scoped>\n",
       "    .dataframe tbody tr th:only-of-type {\n",
       "        vertical-align: middle;\n",
       "    }\n",
       "\n",
       "    .dataframe tbody tr th {\n",
       "        vertical-align: top;\n",
       "    }\n",
       "\n",
       "    .dataframe thead th {\n",
       "        text-align: right;\n",
       "    }\n",
       "</style>\n",
       "<table border=\"1\" class=\"dataframe\">\n",
       "  <thead>\n",
       "    <tr style=\"text-align: right;\">\n",
       "      <th></th>\n",
       "      <th>fixed acidity</th>\n",
       "      <th>volatile acidity</th>\n",
       "      <th>citric acid</th>\n",
       "      <th>residual sugar</th>\n",
       "      <th>chlorides</th>\n",
       "      <th>free sulfur dioxide</th>\n",
       "      <th>total sulfur dioxide</th>\n",
       "      <th>density</th>\n",
       "      <th>pH</th>\n",
       "      <th>sulphates</th>\n",
       "      <th>alcohol</th>\n",
       "      <th>fixed acidity_log</th>\n",
       "      <th>residual sugar_log</th>\n",
       "      <th>chlorides_log</th>\n",
       "      <th>free sulfur dioxide_log</th>\n",
       "      <th>total sulfur dioxide_log</th>\n",
       "      <th>sulphates_log</th>\n",
       "    </tr>\n",
       "  </thead>\n",
       "  <tbody>\n",
       "    <tr>\n",
       "      <th>0</th>\n",
       "      <td>6.8</td>\n",
       "      <td>0.770</td>\n",
       "      <td>0.00</td>\n",
       "      <td>1.8</td>\n",
       "      <td>0.066</td>\n",
       "      <td>34.0</td>\n",
       "      <td>52.0</td>\n",
       "      <td>0.99760</td>\n",
       "      <td>3.62</td>\n",
       "      <td>0.68</td>\n",
       "      <td>9.9</td>\n",
       "      <td>2.054124</td>\n",
       "      <td>1.029619</td>\n",
       "      <td>0.063913</td>\n",
       "      <td>3.555348</td>\n",
       "      <td>3.970292</td>\n",
       "      <td>0.518794</td>\n",
       "    </tr>\n",
       "    <tr>\n",
       "      <th>1</th>\n",
       "      <td>7.3</td>\n",
       "      <td>0.580</td>\n",
       "      <td>0.30</td>\n",
       "      <td>2.4</td>\n",
       "      <td>0.074</td>\n",
       "      <td>15.0</td>\n",
       "      <td>55.0</td>\n",
       "      <td>0.99680</td>\n",
       "      <td>3.46</td>\n",
       "      <td>0.59</td>\n",
       "      <td>10.2</td>\n",
       "      <td>2.116256</td>\n",
       "      <td>1.223775</td>\n",
       "      <td>0.071390</td>\n",
       "      <td>2.772589</td>\n",
       "      <td>4.025352</td>\n",
       "      <td>0.463734</td>\n",
       "    </tr>\n",
       "    <tr>\n",
       "      <th>2</th>\n",
       "      <td>9.8</td>\n",
       "      <td>0.250</td>\n",
       "      <td>0.49</td>\n",
       "      <td>2.7</td>\n",
       "      <td>0.088</td>\n",
       "      <td>15.0</td>\n",
       "      <td>33.0</td>\n",
       "      <td>0.99820</td>\n",
       "      <td>3.42</td>\n",
       "      <td>0.90</td>\n",
       "      <td>10.0</td>\n",
       "      <td>2.379546</td>\n",
       "      <td>1.308333</td>\n",
       "      <td>0.084341</td>\n",
       "      <td>2.772589</td>\n",
       "      <td>3.526361</td>\n",
       "      <td>0.641854</td>\n",
       "    </tr>\n",
       "    <tr>\n",
       "      <th>3</th>\n",
       "      <td>11.4</td>\n",
       "      <td>0.625</td>\n",
       "      <td>0.66</td>\n",
       "      <td>6.2</td>\n",
       "      <td>0.088</td>\n",
       "      <td>6.0</td>\n",
       "      <td>24.0</td>\n",
       "      <td>0.99880</td>\n",
       "      <td>3.11</td>\n",
       "      <td>0.99</td>\n",
       "      <td>13.3</td>\n",
       "      <td>2.517696</td>\n",
       "      <td>1.974081</td>\n",
       "      <td>0.084341</td>\n",
       "      <td>1.945910</td>\n",
       "      <td>3.218876</td>\n",
       "      <td>0.688135</td>\n",
       "    </tr>\n",
       "    <tr>\n",
       "      <th>4</th>\n",
       "      <td>7.1</td>\n",
       "      <td>0.720</td>\n",
       "      <td>0.00</td>\n",
       "      <td>1.8</td>\n",
       "      <td>0.123</td>\n",
       "      <td>6.0</td>\n",
       "      <td>14.0</td>\n",
       "      <td>0.99627</td>\n",
       "      <td>3.45</td>\n",
       "      <td>0.58</td>\n",
       "      <td>9.8</td>\n",
       "      <td>2.091864</td>\n",
       "      <td>1.029619</td>\n",
       "      <td>0.116004</td>\n",
       "      <td>1.945910</td>\n",
       "      <td>2.708050</td>\n",
       "      <td>0.457425</td>\n",
       "    </tr>\n",
       "  </tbody>\n",
       "</table>\n",
       "</div>"
      ],
      "text/plain": [
       "   fixed acidity  volatile acidity  citric acid  residual sugar  chlorides  \\\n",
       "0            6.8             0.770         0.00             1.8      0.066   \n",
       "1            7.3             0.580         0.30             2.4      0.074   \n",
       "2            9.8             0.250         0.49             2.7      0.088   \n",
       "3           11.4             0.625         0.66             6.2      0.088   \n",
       "4            7.1             0.720         0.00             1.8      0.123   \n",
       "\n",
       "   free sulfur dioxide  total sulfur dioxide  density    pH  sulphates  \\\n",
       "0                 34.0                  52.0  0.99760  3.62       0.68   \n",
       "1                 15.0                  55.0  0.99680  3.46       0.59   \n",
       "2                 15.0                  33.0  0.99820  3.42       0.90   \n",
       "3                  6.0                  24.0  0.99880  3.11       0.99   \n",
       "4                  6.0                  14.0  0.99627  3.45       0.58   \n",
       "\n",
       "   alcohol  fixed acidity_log  residual sugar_log  chlorides_log  \\\n",
       "0      9.9           2.054124            1.029619       0.063913   \n",
       "1     10.2           2.116256            1.223775       0.071390   \n",
       "2     10.0           2.379546            1.308333       0.084341   \n",
       "3     13.3           2.517696            1.974081       0.084341   \n",
       "4      9.8           2.091864            1.029619       0.116004   \n",
       "\n",
       "   free sulfur dioxide_log  total sulfur dioxide_log  sulphates_log  \n",
       "0                 3.555348                  3.970292       0.518794  \n",
       "1                 2.772589                  4.025352       0.463734  \n",
       "2                 2.772589                  3.526361       0.641854  \n",
       "3                 1.945910                  3.218876       0.688135  \n",
       "4                 1.945910                  2.708050       0.457425  "
      ]
     },
     "execution_count": 287,
     "metadata": {},
     "output_type": "execute_result"
    }
   ],
   "source": [
    "X_train.head()"
   ]
  },
  {
   "cell_type": "code",
   "execution_count": 288,
   "metadata": {},
   "outputs": [
    {
     "data": {
      "text/html": [
       "<div>\n",
       "<style scoped>\n",
       "    .dataframe tbody tr th:only-of-type {\n",
       "        vertical-align: middle;\n",
       "    }\n",
       "\n",
       "    .dataframe tbody tr th {\n",
       "        vertical-align: top;\n",
       "    }\n",
       "\n",
       "    .dataframe thead th {\n",
       "        text-align: right;\n",
       "    }\n",
       "</style>\n",
       "<table border=\"1\" class=\"dataframe\">\n",
       "  <thead>\n",
       "    <tr style=\"text-align: right;\">\n",
       "      <th></th>\n",
       "      <th>fixed acidity</th>\n",
       "      <th>volatile acidity</th>\n",
       "      <th>citric acid</th>\n",
       "      <th>residual sugar</th>\n",
       "      <th>chlorides</th>\n",
       "      <th>free sulfur dioxide</th>\n",
       "      <th>total sulfur dioxide</th>\n",
       "      <th>density</th>\n",
       "      <th>pH</th>\n",
       "      <th>sulphates</th>\n",
       "      <th>alcohol</th>\n",
       "      <th>fixed acidity_log</th>\n",
       "      <th>residual sugar_log</th>\n",
       "      <th>chlorides_log</th>\n",
       "      <th>free sulfur dioxide_log</th>\n",
       "      <th>total sulfur dioxide_log</th>\n",
       "      <th>sulphates_log</th>\n",
       "    </tr>\n",
       "  </thead>\n",
       "  <tbody>\n",
       "    <tr>\n",
       "      <th>0</th>\n",
       "      <td>8.4</td>\n",
       "      <td>0.635</td>\n",
       "      <td>0.36</td>\n",
       "      <td>2.0</td>\n",
       "      <td>0.089</td>\n",
       "      <td>15.0</td>\n",
       "      <td>55.0</td>\n",
       "      <td>0.99745</td>\n",
       "      <td>3.31</td>\n",
       "      <td>0.57</td>\n",
       "      <td>10.4</td>\n",
       "      <td>2.240710</td>\n",
       "      <td>1.098612</td>\n",
       "      <td>0.085260</td>\n",
       "      <td>2.772589</td>\n",
       "      <td>4.025352</td>\n",
       "      <td>0.451076</td>\n",
       "    </tr>\n",
       "    <tr>\n",
       "      <th>1</th>\n",
       "      <td>8.3</td>\n",
       "      <td>0.490</td>\n",
       "      <td>0.36</td>\n",
       "      <td>1.8</td>\n",
       "      <td>0.222</td>\n",
       "      <td>6.0</td>\n",
       "      <td>16.0</td>\n",
       "      <td>0.99800</td>\n",
       "      <td>3.18</td>\n",
       "      <td>0.60</td>\n",
       "      <td>9.5</td>\n",
       "      <td>2.230014</td>\n",
       "      <td>1.029619</td>\n",
       "      <td>0.200489</td>\n",
       "      <td>1.945910</td>\n",
       "      <td>2.833213</td>\n",
       "      <td>0.470004</td>\n",
       "    </tr>\n",
       "    <tr>\n",
       "      <th>2</th>\n",
       "      <td>9.0</td>\n",
       "      <td>0.580</td>\n",
       "      <td>0.25</td>\n",
       "      <td>2.0</td>\n",
       "      <td>0.104</td>\n",
       "      <td>8.0</td>\n",
       "      <td>21.0</td>\n",
       "      <td>0.99769</td>\n",
       "      <td>3.27</td>\n",
       "      <td>0.72</td>\n",
       "      <td>9.6</td>\n",
       "      <td>2.302585</td>\n",
       "      <td>1.098612</td>\n",
       "      <td>0.098940</td>\n",
       "      <td>2.197225</td>\n",
       "      <td>3.091042</td>\n",
       "      <td>0.542324</td>\n",
       "    </tr>\n",
       "    <tr>\n",
       "      <th>3</th>\n",
       "      <td>8.1</td>\n",
       "      <td>0.780</td>\n",
       "      <td>0.10</td>\n",
       "      <td>3.3</td>\n",
       "      <td>0.090</td>\n",
       "      <td>4.0</td>\n",
       "      <td>13.0</td>\n",
       "      <td>0.99855</td>\n",
       "      <td>3.36</td>\n",
       "      <td>0.49</td>\n",
       "      <td>9.5</td>\n",
       "      <td>2.208274</td>\n",
       "      <td>1.458615</td>\n",
       "      <td>0.086178</td>\n",
       "      <td>1.609438</td>\n",
       "      <td>2.639057</td>\n",
       "      <td>0.398776</td>\n",
       "    </tr>\n",
       "    <tr>\n",
       "      <th>4</th>\n",
       "      <td>7.5</td>\n",
       "      <td>0.380</td>\n",
       "      <td>0.48</td>\n",
       "      <td>2.6</td>\n",
       "      <td>0.073</td>\n",
       "      <td>22.0</td>\n",
       "      <td>84.0</td>\n",
       "      <td>0.99720</td>\n",
       "      <td>3.32</td>\n",
       "      <td>0.70</td>\n",
       "      <td>9.6</td>\n",
       "      <td>2.140066</td>\n",
       "      <td>1.280934</td>\n",
       "      <td>0.070458</td>\n",
       "      <td>3.135494</td>\n",
       "      <td>4.442651</td>\n",
       "      <td>0.530628</td>\n",
       "    </tr>\n",
       "  </tbody>\n",
       "</table>\n",
       "</div>"
      ],
      "text/plain": [
       "   fixed acidity  volatile acidity  citric acid  residual sugar  chlorides  \\\n",
       "0            8.4             0.635         0.36             2.0      0.089   \n",
       "1            8.3             0.490         0.36             1.8      0.222   \n",
       "2            9.0             0.580         0.25             2.0      0.104   \n",
       "3            8.1             0.780         0.10             3.3      0.090   \n",
       "4            7.5             0.380         0.48             2.6      0.073   \n",
       "\n",
       "   free sulfur dioxide  total sulfur dioxide  density    pH  sulphates  \\\n",
       "0                 15.0                  55.0  0.99745  3.31       0.57   \n",
       "1                  6.0                  16.0  0.99800  3.18       0.60   \n",
       "2                  8.0                  21.0  0.99769  3.27       0.72   \n",
       "3                  4.0                  13.0  0.99855  3.36       0.49   \n",
       "4                 22.0                  84.0  0.99720  3.32       0.70   \n",
       "\n",
       "   alcohol  fixed acidity_log  residual sugar_log  chlorides_log  \\\n",
       "0     10.4           2.240710            1.098612       0.085260   \n",
       "1      9.5           2.230014            1.029619       0.200489   \n",
       "2      9.6           2.302585            1.098612       0.098940   \n",
       "3      9.5           2.208274            1.458615       0.086178   \n",
       "4      9.6           2.140066            1.280934       0.070458   \n",
       "\n",
       "   free sulfur dioxide_log  total sulfur dioxide_log  sulphates_log  \n",
       "0                 2.772589                  4.025352       0.451076  \n",
       "1                 1.945910                  2.833213       0.470004  \n",
       "2                 2.197225                  3.091042       0.542324  \n",
       "3                 1.609438                  2.639057       0.398776  \n",
       "4                 3.135494                  4.442651       0.530628  "
      ]
     },
     "execution_count": 288,
     "metadata": {},
     "output_type": "execute_result"
    }
   ],
   "source": [
    "X_validation.head()"
   ]
  },
  {
   "cell_type": "code",
   "execution_count": 289,
   "metadata": {},
   "outputs": [
    {
     "data": {
      "text/plain": [
       "['fixed acidity',\n",
       " 'residual sugar',\n",
       " 'chlorides',\n",
       " 'free sulfur dioxide',\n",
       " 'total sulfur dioxide',\n",
       " 'sulphates']"
      ]
     },
     "execution_count": 289,
     "metadata": {},
     "output_type": "execute_result"
    }
   ],
   "source": [
    "skewed_list"
   ]
  },
  {
   "cell_type": "code",
   "execution_count": 290,
   "metadata": {},
   "outputs": [],
   "source": [
    "# Removing list of previously skewed features and rename the dataframes\n",
    "X_train_log = X_train.drop(skewed_list, axis = 1)\n",
    "X_validation_log = X_validation.drop(skewed_list, axis = 1)"
   ]
  },
  {
   "cell_type": "code",
   "execution_count": 291,
   "metadata": {},
   "outputs": [
    {
     "data": {
      "text/html": [
       "<div>\n",
       "<style scoped>\n",
       "    .dataframe tbody tr th:only-of-type {\n",
       "        vertical-align: middle;\n",
       "    }\n",
       "\n",
       "    .dataframe tbody tr th {\n",
       "        vertical-align: top;\n",
       "    }\n",
       "\n",
       "    .dataframe thead th {\n",
       "        text-align: right;\n",
       "    }\n",
       "</style>\n",
       "<table border=\"1\" class=\"dataframe\">\n",
       "  <thead>\n",
       "    <tr style=\"text-align: right;\">\n",
       "      <th></th>\n",
       "      <th>volatile acidity</th>\n",
       "      <th>citric acid</th>\n",
       "      <th>density</th>\n",
       "      <th>pH</th>\n",
       "      <th>alcohol</th>\n",
       "      <th>fixed acidity_log</th>\n",
       "      <th>residual sugar_log</th>\n",
       "      <th>chlorides_log</th>\n",
       "      <th>free sulfur dioxide_log</th>\n",
       "      <th>total sulfur dioxide_log</th>\n",
       "      <th>sulphates_log</th>\n",
       "    </tr>\n",
       "  </thead>\n",
       "  <tbody>\n",
       "    <tr>\n",
       "      <th>0</th>\n",
       "      <td>0.770</td>\n",
       "      <td>0.00</td>\n",
       "      <td>0.99760</td>\n",
       "      <td>3.62</td>\n",
       "      <td>9.9</td>\n",
       "      <td>2.054124</td>\n",
       "      <td>1.029619</td>\n",
       "      <td>0.063913</td>\n",
       "      <td>3.555348</td>\n",
       "      <td>3.970292</td>\n",
       "      <td>0.518794</td>\n",
       "    </tr>\n",
       "    <tr>\n",
       "      <th>1</th>\n",
       "      <td>0.580</td>\n",
       "      <td>0.30</td>\n",
       "      <td>0.99680</td>\n",
       "      <td>3.46</td>\n",
       "      <td>10.2</td>\n",
       "      <td>2.116256</td>\n",
       "      <td>1.223775</td>\n",
       "      <td>0.071390</td>\n",
       "      <td>2.772589</td>\n",
       "      <td>4.025352</td>\n",
       "      <td>0.463734</td>\n",
       "    </tr>\n",
       "    <tr>\n",
       "      <th>2</th>\n",
       "      <td>0.250</td>\n",
       "      <td>0.49</td>\n",
       "      <td>0.99820</td>\n",
       "      <td>3.42</td>\n",
       "      <td>10.0</td>\n",
       "      <td>2.379546</td>\n",
       "      <td>1.308333</td>\n",
       "      <td>0.084341</td>\n",
       "      <td>2.772589</td>\n",
       "      <td>3.526361</td>\n",
       "      <td>0.641854</td>\n",
       "    </tr>\n",
       "    <tr>\n",
       "      <th>3</th>\n",
       "      <td>0.625</td>\n",
       "      <td>0.66</td>\n",
       "      <td>0.99880</td>\n",
       "      <td>3.11</td>\n",
       "      <td>13.3</td>\n",
       "      <td>2.517696</td>\n",
       "      <td>1.974081</td>\n",
       "      <td>0.084341</td>\n",
       "      <td>1.945910</td>\n",
       "      <td>3.218876</td>\n",
       "      <td>0.688135</td>\n",
       "    </tr>\n",
       "    <tr>\n",
       "      <th>4</th>\n",
       "      <td>0.720</td>\n",
       "      <td>0.00</td>\n",
       "      <td>0.99627</td>\n",
       "      <td>3.45</td>\n",
       "      <td>9.8</td>\n",
       "      <td>2.091864</td>\n",
       "      <td>1.029619</td>\n",
       "      <td>0.116004</td>\n",
       "      <td>1.945910</td>\n",
       "      <td>2.708050</td>\n",
       "      <td>0.457425</td>\n",
       "    </tr>\n",
       "  </tbody>\n",
       "</table>\n",
       "</div>"
      ],
      "text/plain": [
       "   volatile acidity  citric acid  density    pH  alcohol  fixed acidity_log  \\\n",
       "0             0.770         0.00  0.99760  3.62      9.9           2.054124   \n",
       "1             0.580         0.30  0.99680  3.46     10.2           2.116256   \n",
       "2             0.250         0.49  0.99820  3.42     10.0           2.379546   \n",
       "3             0.625         0.66  0.99880  3.11     13.3           2.517696   \n",
       "4             0.720         0.00  0.99627  3.45      9.8           2.091864   \n",
       "\n",
       "   residual sugar_log  chlorides_log  free sulfur dioxide_log  \\\n",
       "0            1.029619       0.063913                 3.555348   \n",
       "1            1.223775       0.071390                 2.772589   \n",
       "2            1.308333       0.084341                 2.772589   \n",
       "3            1.974081       0.084341                 1.945910   \n",
       "4            1.029619       0.116004                 1.945910   \n",
       "\n",
       "   total sulfur dioxide_log  sulphates_log  \n",
       "0                  3.970292       0.518794  \n",
       "1                  4.025352       0.463734  \n",
       "2                  3.526361       0.641854  \n",
       "3                  3.218876       0.688135  \n",
       "4                  2.708050       0.457425  "
      ]
     },
     "execution_count": 291,
     "metadata": {},
     "output_type": "execute_result"
    }
   ],
   "source": [
    "X_train_log.head()"
   ]
  },
  {
   "cell_type": "code",
   "execution_count": 292,
   "metadata": {},
   "outputs": [
    {
     "data": {
      "text/html": [
       "<div>\n",
       "<style scoped>\n",
       "    .dataframe tbody tr th:only-of-type {\n",
       "        vertical-align: middle;\n",
       "    }\n",
       "\n",
       "    .dataframe tbody tr th {\n",
       "        vertical-align: top;\n",
       "    }\n",
       "\n",
       "    .dataframe thead th {\n",
       "        text-align: right;\n",
       "    }\n",
       "</style>\n",
       "<table border=\"1\" class=\"dataframe\">\n",
       "  <thead>\n",
       "    <tr style=\"text-align: right;\">\n",
       "      <th></th>\n",
       "      <th>volatile acidity</th>\n",
       "      <th>citric acid</th>\n",
       "      <th>density</th>\n",
       "      <th>pH</th>\n",
       "      <th>alcohol</th>\n",
       "      <th>fixed acidity_log</th>\n",
       "      <th>residual sugar_log</th>\n",
       "      <th>chlorides_log</th>\n",
       "      <th>free sulfur dioxide_log</th>\n",
       "      <th>total sulfur dioxide_log</th>\n",
       "      <th>sulphates_log</th>\n",
       "    </tr>\n",
       "  </thead>\n",
       "  <tbody>\n",
       "    <tr>\n",
       "      <th>0</th>\n",
       "      <td>0.635</td>\n",
       "      <td>0.36</td>\n",
       "      <td>0.99745</td>\n",
       "      <td>3.31</td>\n",
       "      <td>10.4</td>\n",
       "      <td>2.240710</td>\n",
       "      <td>1.098612</td>\n",
       "      <td>0.085260</td>\n",
       "      <td>2.772589</td>\n",
       "      <td>4.025352</td>\n",
       "      <td>0.451076</td>\n",
       "    </tr>\n",
       "    <tr>\n",
       "      <th>1</th>\n",
       "      <td>0.490</td>\n",
       "      <td>0.36</td>\n",
       "      <td>0.99800</td>\n",
       "      <td>3.18</td>\n",
       "      <td>9.5</td>\n",
       "      <td>2.230014</td>\n",
       "      <td>1.029619</td>\n",
       "      <td>0.200489</td>\n",
       "      <td>1.945910</td>\n",
       "      <td>2.833213</td>\n",
       "      <td>0.470004</td>\n",
       "    </tr>\n",
       "    <tr>\n",
       "      <th>2</th>\n",
       "      <td>0.580</td>\n",
       "      <td>0.25</td>\n",
       "      <td>0.99769</td>\n",
       "      <td>3.27</td>\n",
       "      <td>9.6</td>\n",
       "      <td>2.302585</td>\n",
       "      <td>1.098612</td>\n",
       "      <td>0.098940</td>\n",
       "      <td>2.197225</td>\n",
       "      <td>3.091042</td>\n",
       "      <td>0.542324</td>\n",
       "    </tr>\n",
       "    <tr>\n",
       "      <th>3</th>\n",
       "      <td>0.780</td>\n",
       "      <td>0.10</td>\n",
       "      <td>0.99855</td>\n",
       "      <td>3.36</td>\n",
       "      <td>9.5</td>\n",
       "      <td>2.208274</td>\n",
       "      <td>1.458615</td>\n",
       "      <td>0.086178</td>\n",
       "      <td>1.609438</td>\n",
       "      <td>2.639057</td>\n",
       "      <td>0.398776</td>\n",
       "    </tr>\n",
       "    <tr>\n",
       "      <th>4</th>\n",
       "      <td>0.380</td>\n",
       "      <td>0.48</td>\n",
       "      <td>0.99720</td>\n",
       "      <td>3.32</td>\n",
       "      <td>9.6</td>\n",
       "      <td>2.140066</td>\n",
       "      <td>1.280934</td>\n",
       "      <td>0.070458</td>\n",
       "      <td>3.135494</td>\n",
       "      <td>4.442651</td>\n",
       "      <td>0.530628</td>\n",
       "    </tr>\n",
       "  </tbody>\n",
       "</table>\n",
       "</div>"
      ],
      "text/plain": [
       "   volatile acidity  citric acid  density    pH  alcohol  fixed acidity_log  \\\n",
       "0             0.635         0.36  0.99745  3.31     10.4           2.240710   \n",
       "1             0.490         0.36  0.99800  3.18      9.5           2.230014   \n",
       "2             0.580         0.25  0.99769  3.27      9.6           2.302585   \n",
       "3             0.780         0.10  0.99855  3.36      9.5           2.208274   \n",
       "4             0.380         0.48  0.99720  3.32      9.6           2.140066   \n",
       "\n",
       "   residual sugar_log  chlorides_log  free sulfur dioxide_log  \\\n",
       "0            1.098612       0.085260                 2.772589   \n",
       "1            1.029619       0.200489                 1.945910   \n",
       "2            1.098612       0.098940                 2.197225   \n",
       "3            1.458615       0.086178                 1.609438   \n",
       "4            1.280934       0.070458                 3.135494   \n",
       "\n",
       "   total sulfur dioxide_log  sulphates_log  \n",
       "0                  4.025352       0.451076  \n",
       "1                  2.833213       0.470004  \n",
       "2                  3.091042       0.542324  \n",
       "3                  2.639057       0.398776  \n",
       "4                  4.442651       0.530628  "
      ]
     },
     "execution_count": 292,
     "metadata": {},
     "output_type": "execute_result"
    }
   ],
   "source": [
    "X_validation_log.head()"
   ]
  },
  {
   "cell_type": "code",
   "execution_count": 293,
   "metadata": {},
   "outputs": [
    {
     "name": "stdout",
     "output_type": "stream",
     "text": [
      "Skew other than -1 to 1: ['residual sugar_log', 'chlorides_log', 'sulphates_log']\n",
      "residual sugar_log : 2.0984027379861296\n",
      "chlorides_log : 4.674366660308375\n",
      "sulphates_log : 1.572284601796296\n"
     ]
    }
   ],
   "source": [
    "# After filtering log and non-log features of same name, ones with still high skew\n",
    "print(f\"Skew other than -1 to 1: {skewed_list_fun(X_train_log)}\")\n",
    "for name in skewed_list_fun(X_train_log):\n",
    "    print(f\"{name} : {X_train_log[name].skew()}\")"
   ]
  },
  {
   "cell_type": "code",
   "execution_count": 294,
   "metadata": {},
   "outputs": [
    {
     "name": "stdout",
     "output_type": "stream",
     "text": [
      "Using Linear Regression Model: \n",
      "MSE: 0.4202819677159197\n",
      "RMSE: 0.6482915761568399\n",
      "R2 Score: 0.35615951328301454\n"
     ]
    }
   ],
   "source": [
    "# After some EDA, reducing skewness using log \n",
    "linear_regression(X_train_log, y_train, X_validation_log, y_validation)"
   ]
  },
  {
   "cell_type": "code",
   "execution_count": 295,
   "metadata": {},
   "outputs": [
    {
     "name": "stdout",
     "output_type": "stream",
     "text": [
      "Skew crossing -1 to 1 range for X_train_log: ['residual sugar_log', 'chlorides_log', 'sulphates_log']\n",
      "Skew crossing -1 to 1 range for X_validation_log: ['residual sugar_log', 'chlorides_log', 'sulphates_log']\n"
     ]
    }
   ],
   "source": [
    "print(f\"Skew crossing -1 to 1 range for X_train_log: {skewed_list_fun(X_train_log)}\")\n",
    "print(f\"Skew crossing -1 to 1 range for X_validation_log: {skewed_list_fun(X_validation_log)}\")"
   ]
  },
  {
   "cell_type": "code",
   "execution_count": 296,
   "metadata": {},
   "outputs": [
    {
     "name": "stdout",
     "output_type": "stream",
     "text": [
      "Skew of chlorides_log: 4.674366660308375\n",
      "Skew of chlorides_log after log function (again): 4.308872110013141\n"
     ]
    },
    {
     "data": {
      "text/plain": [
       "\" Value hasn't really changed so we use another method \""
      ]
     },
     "execution_count": 296,
     "metadata": {},
     "output_type": "execute_result"
    }
   ],
   "source": [
    "print(f\"Skew of chlorides_log: {X_train_log['chlorides_log'].skew()}\")\n",
    "X_train_log['chlorides_log'] = np.log1p(X_train_log['chlorides_log'])\n",
    "print(f\"Skew of chlorides_log after log function (again): {X_train_log['chlorides_log'].skew()}\")\n",
    "''' Value hasn't really changed so we use another method '''"
   ]
  },
  {
   "cell_type": "code",
   "execution_count": 297,
   "metadata": {},
   "outputs": [
    {
     "name": "stdout",
     "output_type": "stream",
     "text": [
      "Skewness of all features in given dataframe: \n",
      "free sulfur dioxide_log = -0.08503794279569414\n",
      "density = -0.0721368587006527\n",
      "total sulfur dioxide_log = -0.06364767066361943\n",
      "pH = 0.15605144433933577\n",
      "citric acid = 0.29487725679585225\n",
      "fixed acidity_log = 0.4647473972322844\n",
      "volatile acidity = 0.7215297851296966\n",
      "alcohol = 0.9518607069483428\n",
      "sulphates_log = 1.572284601796296\n",
      "residual sugar_log = 2.0984027379861296\n",
      "chlorides_log = 4.308872110013141\n"
     ]
    }
   ],
   "source": [
    "from scipy import stats\n",
    "skew_calc(X_train_log)"
   ]
  },
  {
   "cell_type": "code",
   "execution_count": 298,
   "metadata": {},
   "outputs": [],
   "source": [
    "# Box Cox only works for positives, for training - On features with extreme skew\n",
    "X_train_log['chlorides_log'] = stats.boxcox(X_train_log['chlorides_log'])[0]\n",
    "X_train_log['residual sugar_log'] = stats.boxcox(X_train_log['residual sugar_log'])[0]\n",
    "X_train_log['sulphates_log'] = stats.boxcox(X_train_log['sulphates_log'])[0]"
   ]
  },
  {
   "cell_type": "code",
   "execution_count": 299,
   "metadata": {},
   "outputs": [
    {
     "name": "stdout",
     "output_type": "stream",
     "text": [
      "Skewness of all features in given dataframe: \n",
      "chlorides_log = -0.35271509901878\n",
      "residual sugar_log = -0.12142250668345902\n",
      "free sulfur dioxide_log = -0.08503794279569414\n",
      "density = -0.0721368587006527\n",
      "total sulfur dioxide_log = -0.06364767066361943\n",
      "sulphates_log = -0.018920864587467414\n",
      "pH = 0.15605144433933577\n",
      "citric acid = 0.29487725679585225\n",
      "fixed acidity_log = 0.4647473972322844\n",
      "volatile acidity = 0.7215297851296966\n",
      "alcohol = 0.9518607069483428\n"
     ]
    }
   ],
   "source": [
    "skew_calc(X_train_log) # Skewness of all features between -1 to 1 now"
   ]
  },
  {
   "cell_type": "code",
   "execution_count": 300,
   "metadata": {},
   "outputs": [
    {
     "name": "stdout",
     "output_type": "stream",
     "text": [
      "Skewness of all features in given dataframe: \n",
      "free sulfur dioxide_log = -0.12222308372900223\n",
      "total sulfur dioxide_log = 0.02539383443247844\n",
      "density = 0.08037243743089047\n",
      "pH = 0.21089196121493933\n",
      "citric acid = 0.43551943208901694\n",
      "fixed acidity_log = 0.43992593673903413\n",
      "volatile acidity = 0.4515967325978047\n",
      "alcohol = 0.7804606875056638\n",
      "sulphates_log = 2.055768975593893\n",
      "residual sugar_log = 2.0782371427498028\n",
      "chlorides_log = 7.066773403190184\n"
     ]
    }
   ],
   "source": [
    "skew_calc(X_validation_log)"
   ]
  },
  {
   "cell_type": "code",
   "execution_count": 301,
   "metadata": {},
   "outputs": [],
   "source": [
    "# Box Cox only works for positives, for validation\n",
    "X_validation_log['chlorides_log'] = stats.boxcox(X_validation_log['chlorides_log'])[0]\n",
    "X_validation_log['residual sugar_log'] = stats.boxcox(X_validation_log['residual sugar_log'])[0]\n",
    "X_validation_log['sulphates_log'] = stats.boxcox(X_validation_log['sulphates_log'])[0]"
   ]
  },
  {
   "cell_type": "code",
   "execution_count": 302,
   "metadata": {},
   "outputs": [
    {
     "name": "stdout",
     "output_type": "stream",
     "text": [
      "Skewness of all features in given dataframe: \n",
      "chlorides_log = -0.2200941123170831\n",
      "free sulfur dioxide_log = -0.12222308372900223\n",
      "residual sugar_log = -0.056895803660988474\n",
      "sulphates_log = -0.04697428770404776\n",
      "total sulfur dioxide_log = 0.02539383443247844\n",
      "density = 0.08037243743089047\n",
      "pH = 0.21089196121493933\n",
      "citric acid = 0.43551943208901694\n",
      "fixed acidity_log = 0.43992593673903413\n",
      "volatile acidity = 0.4515967325978047\n",
      "alcohol = 0.7804606875056638\n"
     ]
    }
   ],
   "source": [
    "skew_calc(X_validation_log) # Skewness of all features between -1 to 1 now"
   ]
  },
  {
   "cell_type": "code",
   "execution_count": 303,
   "metadata": {},
   "outputs": [
    {
     "name": "stdout",
     "output_type": "stream",
     "text": [
      "Using Linear Regression Model: \n",
      "MSE: 0.63909132888801\n",
      "RMSE: 0.7994318788289656\n",
      "R2 Score: 0.020959965320264562\n"
     ]
    }
   ],
   "source": [
    "# After all skewed features are in range -1 to 1\n",
    "linear_regression(X_train_log, y_train, X_validation_log, y_validation)"
   ]
  },
  {
   "cell_type": "code",
   "execution_count": 304,
   "metadata": {},
   "outputs": [
    {
     "data": {
      "text/plain": [
       "' Box plot after skewness was limited to -1 to 1 '"
      ]
     },
     "execution_count": 304,
     "metadata": {},
     "output_type": "execute_result"
    }
   ],
   "source": [
    "''' Box plot after skewness was limited to -1 to 1 '''\n",
    "# box_plot_all(X_train_log, \"train\")"
   ]
  },
  {
   "cell_type": "code",
   "execution_count": 305,
   "metadata": {},
   "outputs": [
    {
     "data": {
      "text/plain": [
       "' Hist plot after skewness was limited to - 1 to 1 '"
      ]
     },
     "execution_count": 305,
     "metadata": {},
     "output_type": "execute_result"
    }
   ],
   "source": [
    "''' Hist plot after skewness was limited to - 1 to 1 '''\n",
    "# hist_plot_all(X_train_log, 'train') "
   ]
  },
  {
   "cell_type": "code",
   "execution_count": 306,
   "metadata": {},
   "outputs": [],
   "source": [
    "# Using log to decrease skew isn't really helping here\n",
    "# Substituting the outliers with mean, median, other values"
   ]
  }
 ],
 "metadata": {
  "kernelspec": {
   "display_name": "machinelearning",
   "language": "python",
   "name": "python3"
  },
  "language_info": {
   "codemirror_mode": {
    "name": "ipython",
    "version": 3
   },
   "file_extension": ".py",
   "mimetype": "text/x-python",
   "name": "python",
   "nbconvert_exporter": "python",
   "pygments_lexer": "ipython3",
   "version": "3.12.1"
  }
 },
 "nbformat": 4,
 "nbformat_minor": 2
}
